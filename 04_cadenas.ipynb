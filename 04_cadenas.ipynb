{
  "cells": [
    {
      "cell_type": "markdown",
      "metadata": {
        "id": "O8CIbn6Bzo4P"
      },
      "source": [
        "# 4. Uso de cadenas\n",
        "\n",
        "Aunque las cadenas en Python parecen ser sencillas, hay cierta complejidad en las reglas de las cadenas que es importante comprender. El conocimiento de las reglas ayuda a evitar que le sorprenda el comportamiento de las cadenas al modificar valores o dar formato al texto.\n",
        "\n",
        "### 4.1. Inmutabilidad de las cadenas\n",
        "En Python, las cadenas son inmutables. Es decir, no pueden cambiar. Esta propiedad del tipo de cadena puede ser sorprendente, ya que Python no proporciona errores al modificar cadenas.\n",
        "\n",
        "En el ejemplo de este módulo, tiene un único hecho sobre la Luna que está asignado a una variable y debe agregarle otro hecho (una oración). Parece que agregar el segundo hecho podría modificar la variable, tal como en el ejemplo siguiente:\n"
      ]
    },
    {
      "cell_type": "code",
      "execution_count": null,
      "metadata": {
        "colab": {
          "base_uri": "https://localhost:8080/",
          "height": 35
        },
        "id": "6igO9XNTzo4V",
        "outputId": "3ee1f346-e2c5-4218-e865-1c2e4a7863fb"
      },
      "outputs": [
        {
          "data": {
            "application/vnd.google.colaboratory.intrinsic+json": {
              "type": "string"
            },
            "text/plain": [
              "'The Moon has no atmosphere. No sound can be heard on the Moon.'"
            ]
          },
          "execution_count": 1,
          "metadata": {},
          "output_type": "execute_result"
        }
      ],
      "source": [
        "fact = \"The Moon has no atmosphere.\"\n",
        "fact + \" No sound can be heard on the Moon.\""
      ]
    },
    {
      "cell_type": "markdown",
      "metadata": {
        "id": "4P38T9Q7zo4Y"
      },
      "source": [
        "Aunque podría parecer que se ha modificado la variable `fact`, una comprobación rápida del valor revela que el valor original no ha cambiado:"
      ]
    },
    {
      "cell_type": "code",
      "execution_count": null,
      "metadata": {
        "colab": {
          "base_uri": "https://localhost:8080/",
          "height": 35
        },
        "id": "2GDVt3I3zo4Z",
        "outputId": "94a90fe8-1add-44de-fe9b-a9928e87fa24"
      },
      "outputs": [
        {
          "data": {
            "application/vnd.google.colaboratory.intrinsic+json": {
              "type": "string"
            },
            "text/plain": [
              "'The Moon has no atmosphere.'"
            ]
          },
          "execution_count": 2,
          "metadata": {},
          "output_type": "execute_result"
        }
      ],
      "source": [
        "fact"
      ]
    },
    {
      "cell_type": "markdown",
      "metadata": {
        "id": "enpUY5Kszo4Z"
      },
      "source": [
        "Aquí el truco es que se debe usar un valor devuelto. Al agregar cadenas, Python no modifica ninguna, sino que devuelve una cadena nueva como resultado. Para mantener este resultado nuevo, asígnelo a una nueva variable:"
      ]
    },
    {
      "cell_type": "code",
      "execution_count": null,
      "metadata": {
        "colab": {
          "base_uri": "https://localhost:8080/",
          "height": 35
        },
        "id": "cWj0Ixf8zo4b",
        "outputId": "2713ab62-f3f0-40a7-ddc8-d607520d93d4"
      },
      "outputs": [
        {
          "data": {
            "application/vnd.google.colaboratory.intrinsic+json": {
              "type": "string"
            },
            "text/plain": [
              "'The Moon has no atmosphere.No sound can be heard on the Moon.'"
            ]
          },
          "execution_count": 3,
          "metadata": {},
          "output_type": "execute_result"
        }
      ],
      "source": [
        "two_facts = fact + \"No sound can be heard on the Moon.\"\n",
        "two_facts"
      ]
    },
    {
      "cell_type": "markdown",
      "metadata": {
        "id": "CBCX78vkzo4b"
      },
      "source": [
        "Las operaciones en las cadenas siempre generan cadenas nuevas como resultado.\n",
        "\n",
        "## 4.2. Uso de comillas\n",
        "Puede incluir las cadenas de Python entre comillas simples, dobles o triples. Aunque se pueden usar indistintamente, es mejor utilizar un tipo de forma coherente dentro de un proyecto. Por ejemplo, en la cadena siguiente se usan comillas dobles:"
      ]
    },
    {
      "cell_type": "code",
      "execution_count": null,
      "metadata": {
        "id": "54ot4-z4zo4c"
      },
      "outputs": [],
      "source": [
        "moon_radius = \"The Moon has a radius of 1,080 miles\""
      ]
    },
    {
      "cell_type": "markdown",
      "metadata": {
        "id": "RPoZSvEMzo4d"
      },
      "source": [
        "Pero cuando una cadena contiene palabras, números o caracteres especiales (una subcadena) que también se incluyen entre comillas, debe usar otro estilo. Por ejemplo, si en una subcadena se usan comillas dobles, incluya toda la cadena entre comillas simples, como se muestra aquí:"
      ]
    },
    {
      "cell_type": "code",
      "execution_count": null,
      "metadata": {
        "colab": {
          "base_uri": "https://localhost:8080/",
          "height": 35
        },
        "id": "wm7B9nwfzo4j",
        "outputId": "aac3e29b-81eb-445f-a72f-ed3e322bdc7f"
      },
      "outputs": [
        {
          "data": {
            "application/vnd.google.colaboratory.intrinsic+json": {
              "type": "string"
            },
            "text/plain": [
              "'The \"near side\" is the part of the Moon that faces the Earth'"
            ]
          },
          "execution_count": 5,
          "metadata": {},
          "output_type": "execute_result"
        }
      ],
      "source": [
        "'The \"near side\" is the part of the Moon that faces the Earth'"
      ]
    },
    {
      "cell_type": "markdown",
      "metadata": {
        "id": "Fq_IIA6Zzo4j"
      },
      "source": [
        "Del mismo modo, si en alguna parte de la cadena hay comillas simples (o un apóstrofo, como en Moon's en el ejemplo siguiente), incluya toda la cadena entre comillas dobles:"
      ]
    },
    {
      "cell_type": "code",
      "execution_count": null,
      "metadata": {
        "colab": {
          "base_uri": "https://localhost:8080/",
          "height": 35
        },
        "id": "Te8xywznzo4k",
        "outputId": "caf11195-14af-4967-beae-8c60153118bf"
      },
      "outputs": [
        {
          "data": {
            "application/vnd.google.colaboratory.intrinsic+json": {
              "type": "string"
            },
            "text/plain": [
              "\"We only see about 60% of the Moon's surface\""
            ]
          },
          "execution_count": 6,
          "metadata": {},
          "output_type": "execute_result"
        }
      ],
      "source": [
        "\"We only see about 60% of the Moon's surface\""
      ]
    },
    {
      "cell_type": "markdown",
      "metadata": {
        "id": "65oIruwozo4k"
      },
      "source": [
        "Si no se alternan las comillas simples y dobles, el intérprete de Python puede generar un error de sintaxis, como se muestra aquí:"
      ]
    },
    {
      "cell_type": "code",
      "execution_count": null,
      "metadata": {
        "colab": {
          "base_uri": "https://localhost:8080/",
          "height": 141
        },
        "id": "CizzJHJEzo4k",
        "outputId": "53a53bc6-302f-4d7e-ffff-9e96a017de08"
      },
      "outputs": [
        {
          "ename": "SyntaxError",
          "evalue": "ignored",
          "output_type": "error",
          "traceback": [
            "\u001b[0;36m  File \u001b[0;32m\"<ipython-input-7-6985b459a9c6>\"\u001b[0;36m, line \u001b[0;32m1\u001b[0m\n\u001b[0;31m    'We only see about 60% of the Moon's surface'\u001b[0m\n\u001b[0m                                                ^\u001b[0m\n\u001b[0;31mSyntaxError\u001b[0m\u001b[0;31m:\u001b[0m unterminated string literal (detected at line 1)\n"
          ]
        }
      ],
      "source": [
        "'We only see about 60% of the Moon's surface'"
      ]
    },
    {
      "cell_type": "markdown",
      "metadata": {
        "id": "Y1iPmAkuzo4k"
      },
      "source": [
        "Cuando el texto tiene una combinación de comillas simples y dobles, puede usar comillas triples para evitar problemas con el intérprete:"
      ]
    },
    {
      "cell_type": "code",
      "execution_count": null,
      "metadata": {
        "colab": {
          "base_uri": "https://localhost:8080/",
          "height": 35
        },
        "id": "2xVcA6_Uzo4l",
        "outputId": "657a578d-2266-495f-8e40-96b78a35e8e5"
      },
      "outputs": [
        {
          "data": {
            "application/vnd.google.colaboratory.intrinsic+json": {
              "type": "string"
            },
            "text/plain": [
              "'We only see about 60% of the Moon\\'s surface, this is known as the \"near side\".'"
            ]
          },
          "execution_count": 8,
          "metadata": {},
          "output_type": "execute_result"
        }
      ],
      "source": [
        "\"\"\"We only see about 60% of the Moon's surface, this is known as the \"near side\".\"\"\""
      ]
    },
    {
      "cell_type": "markdown",
      "metadata": {
        "id": "cvasf168zo4l"
      },
      "source": [
        "### 4.2.1. Texto multilínea\n",
        "Hay diferentes maneras de definir varias líneas de texto como una sola variable. Las más comunes son las siguientes:\n",
        "\n",
        "* Usar un carácter de nueva línea (`\\n`).\n",
        "* Usar comillas triples (`\"\"\"`).\n",
        "\n",
        "Los caracteres de nueva línea separan el texto en varias líneas al imprimir la salida:"
      ]
    },
    {
      "cell_type": "code",
      "execution_count": null,
      "metadata": {
        "colab": {
          "base_uri": "https://localhost:8080/"
        },
        "id": "6SwKT7yuzo4l",
        "outputId": "f131ed4c-ceb1-4730-aa82-ca526007ca09"
      },
      "outputs": [
        {
          "name": "stdout",
          "output_type": "stream",
          "text": [
            "Facts about the Moon:\n",
            " There is no atmosphere.\n",
            " There is no sound.\n"
          ]
        }
      ],
      "source": [
        "multiline = \"Facts about the Moon:\\n There is no atmosphere.\\n There is no sound.\"\n",
        "print(multiline)"
      ]
    },
    {
      "cell_type": "markdown",
      "metadata": {
        "id": "fmHDN2LYzo4n"
      },
      "source": [
        "Puede lograr el mismo resultado con las comillas triples:\n"
      ]
    },
    {
      "cell_type": "code",
      "execution_count": null,
      "metadata": {
        "colab": {
          "base_uri": "https://localhost:8080/"
        },
        "id": "UUkh9Ig-zo4n",
        "outputId": "a557590e-7d62-4f81-9d91-869809098718"
      },
      "outputs": [
        {
          "name": "stdout",
          "output_type": "stream",
          "text": [
            "Facts about the Moon:\n",
            " There is no atmosphere.\n",
            " There is no sound.\n"
          ]
        }
      ],
      "source": [
        "multiline = \"\"\"Facts about the Moon:\n",
        "...  There is no atmosphere.\n",
        "...  There is no sound.\"\"\"\n",
        "print(multiline)\n"
      ]
    },
    {
      "cell_type": "markdown",
      "metadata": {
        "id": "xtGiqg0Qzo4o"
      },
      "source": [
        "## 4.3. Métodos de cadena en Python\n",
        "\n",
        "Los métodos de cadena son uno de los tipos de método más comunes en Python. A menudo tendrá que manipular cadenas para extraer información o ajustarse a un formato concreto. Python incluye varios métodos de cadena diseñados para realizar las transformaciones más comunes y útiles.\n",
        "\n",
        "Los métodos de cadena forman parte del tipo `str`. Esto significa que los métodos existen como variables de cadena o directamente como parte de la cadena. Por ejemplo, el método `.title()` se puede usar directamente con una cadena:\n"
      ]
    },
    {
      "cell_type": "code",
      "execution_count": null,
      "metadata": {
        "colab": {
          "base_uri": "https://localhost:8080/",
          "height": 35
        },
        "id": "9o8xwpj-zo4o",
        "outputId": "db23d6dc-f01e-48ce-b9fb-ef7ae49d88c8"
      },
      "outputs": [
        {
          "data": {
            "application/vnd.google.colaboratory.intrinsic+json": {
              "type": "string"
            },
            "text/plain": [
              "'Temperatures And Facts About The Moon'"
            ]
          },
          "execution_count": 11,
          "metadata": {},
          "output_type": "execute_result"
        }
      ],
      "source": [
        "\"temperatures and facts about the moon\".title()"
      ]
    },
    {
      "cell_type": "markdown",
      "metadata": {
        "id": "aRRhr2aIzo4o"
      },
      "source": [
        "Y el mismo comportamiento y utilización se produce en una variable:"
      ]
    },
    {
      "cell_type": "code",
      "execution_count": null,
      "metadata": {
        "colab": {
          "base_uri": "https://localhost:8080/",
          "height": 35
        },
        "id": "Wb7b7CKVzo4o",
        "outputId": "2a620061-3f87-476d-e45b-1ff6fa5e962b"
      },
      "outputs": [
        {
          "data": {
            "application/vnd.google.colaboratory.intrinsic+json": {
              "type": "string"
            },
            "text/plain": [
              "'Temperatures And Facts About The Moon'"
            ]
          },
          "execution_count": 12,
          "metadata": {},
          "output_type": "execute_result"
        }
      ],
      "source": [
        "heading = \"temperatures and facts about the moon\"\n",
        "heading.title()"
      ]
    },
    {
      "cell_type": "markdown",
      "metadata": {
        "id": "W4FJt2mKzo4o"
      },
      "source": [
        "### 4.3.1. División de una cadena\n",
        "Un método de cadena común es `.split()`. Sin argumentos, el método separará la cadena en cada espacio. Esto crearía una lista de todas las palabras o números separados por un espacio:"
      ]
    },
    {
      "cell_type": "code",
      "execution_count": null,
      "metadata": {
        "colab": {
          "base_uri": "https://localhost:8080/"
        },
        "id": "MveHsGEWzo4p",
        "outputId": "27990094-9820-42c4-f2e4-4879f4224f04"
      },
      "outputs": [
        {
          "data": {
            "text/plain": [
              "['Daylight:', '260', 'F', 'Nighttime:', '-280', 'F']"
            ]
          },
          "execution_count": 13,
          "metadata": {},
          "output_type": "execute_result"
        }
      ],
      "source": [
        "temperatures = \"\"\"Daylight: 260 F\n",
        "... Nighttime: -280 F\"\"\"\n",
        "temperatures .split()"
      ]
    },
    {
      "cell_type": "markdown",
      "metadata": {
        "id": "bBPfLtMazo4p"
      },
      "source": [
        "En este ejemplo, trabaja con varias líneas, por lo que el carácter de nueva línea (implícito) se puede usar para dividir la cadena al final de cada línea, y crear líneas únicas:"
      ]
    },
    {
      "cell_type": "code",
      "execution_count": null,
      "metadata": {
        "colab": {
          "base_uri": "https://localhost:8080/"
        },
        "id": "xRCJ8BYUzo4p",
        "outputId": "1f2a4565-cfd4-4002-9e69-f1f8982440a0"
      },
      "outputs": [
        {
          "data": {
            "text/plain": [
              "['Daylight: 260 F', 'Nighttime: -280 F']"
            ]
          },
          "execution_count": 14,
          "metadata": {},
          "output_type": "execute_result"
        }
      ],
      "source": [
        "temperatures .split('\\n')"
      ]
    },
    {
      "cell_type": "markdown",
      "metadata": {
        "id": "WpPBEYiszo4p"
      },
      "source": [
        "Este tipo de división resulta útil cuando se necesita un bucle para procesar o extraer información, o bien cuando se cargan datos desde un archivo de texto.\n",
        "\n",
        "### 4.3.2. Búsqueda de una cadena\n",
        "Algunos métodos de cadena pueden buscar contenido antes del procesamiento, sin necesidad de usar un bucle. Imagine que tiene dos oraciones que analizan las temperaturas de varios planetas y lunas, pero solo le interesan las temperaturas relacionadas con la Luna. Es decir, si las oraciones no se refieren a la Luna, no se deben procesar para extraer información.\n",
        "\n",
        "La manera más sencilla de detectar si existe una palabra, un carácter o un grupo de caracteres determinados en una cadena es usar el operador `in`:\n"
      ]
    },
    {
      "cell_type": "code",
      "execution_count": null,
      "metadata": {
        "colab": {
          "base_uri": "https://localhost:8080/"
        },
        "id": "kkd6muSTzo4p",
        "outputId": "0a42be87-623b-4d93-d7f6-bd81cbac97d9"
      },
      "outputs": [
        {
          "data": {
            "text/plain": [
              "False"
            ]
          },
          "execution_count": 18,
          "metadata": {},
          "output_type": "execute_result"
        }
      ],
      "source": [
        "\"Moon\" in \"This text will describe facts and challenges with space travel\"\n",
        "fact = \"This text will describe facts and challenges with space travel\"\n",
        "luna = \"Moon\"\n",
        "luna in fact"
      ]
    },
    {
      "cell_type": "code",
      "execution_count": null,
      "metadata": {
        "colab": {
          "base_uri": "https://localhost:8080/"
        },
        "id": "q0weCbXIzo4q",
        "outputId": "8a6a1bc0-c1a1-477d-cce8-a92f81c24c29"
      },
      "outputs": [
        {
          "data": {
            "text/plain": [
              "True"
            ]
          },
          "execution_count": 16,
          "metadata": {},
          "output_type": "execute_result"
        }
      ],
      "source": [
        "\"Moon\" in \"This text will describe facts about the Moon\""
      ]
    },
    {
      "cell_type": "markdown",
      "metadata": {
        "id": "bEutaxpGzo4q"
      },
      "source": [
        "Un enfoque para buscar la posición de una palabra específica en una cadena consiste en usar el método .`find()`:"
      ]
    },
    {
      "cell_type": "code",
      "execution_count": null,
      "metadata": {
        "colab": {
          "base_uri": "https://localhost:8080/"
        },
        "id": "lTh9K0Ebzo4q",
        "outputId": "59c38cd8-eded-40b7-9492-25c4eb91c12c"
      },
      "outputs": [
        {
          "data": {
            "text/plain": [
              "-1"
            ]
          },
          "execution_count": 19,
          "metadata": {},
          "output_type": "execute_result"
        }
      ],
      "source": [
        "temperatures = \"\"\"Saturn has a daytime temperature of -170 degrees Celsius,\n",
        "... while Mars has -28 Celsius.\"\"\"\n",
        "temperatures.find(\"Moon\")"
      ]
    },
    {
      "cell_type": "markdown",
      "metadata": {
        "id": "xImmvnJ2zo4q"
      },
      "source": [
        "El método `.find()` devuelve -1 cuando no se encuentra la palabra, o bien devuelve el índice (el número que representa la posición en la cadena). Así es como se comportaría si busca la palabra Mars:"
      ]
    },
    {
      "cell_type": "code",
      "execution_count": null,
      "metadata": {
        "colab": {
          "base_uri": "https://localhost:8080/"
        },
        "id": "tsG31nJxzo4q",
        "outputId": "152541d8-38f4-4139-8475-c9b658cfd172"
      },
      "outputs": [
        {
          "data": {
            "text/plain": [
              "64"
            ]
          },
          "execution_count": 22,
          "metadata": {},
          "output_type": "execute_result"
        }
      ],
      "source": [
        "temperatures.find(\"Mars\")"
      ]
    },
    {
      "cell_type": "markdown",
      "metadata": {
        "id": "WT2dYsrozo4q"
      },
      "source": [
        "65 es la posición donde \"Mars\" aparece en la cadena.\n",
        "\n",
        "Otra manera de buscar contenido consiste en usar el método .count(), que devuelve el número total de repeticiones de una palabra determinada en una cadena:"
      ]
    },
    {
      "cell_type": "code",
      "execution_count": null,
      "metadata": {
        "colab": {
          "base_uri": "https://localhost:8080/"
        },
        "id": "Jioyd6qLzo4r",
        "outputId": "d0d5b9e8-d42b-4daf-a218-6c459c7809eb"
      },
      "outputs": [
        {
          "data": {
            "text/plain": [
              "1"
            ]
          },
          "execution_count": 29,
          "metadata": {},
          "output_type": "execute_result"
        }
      ],
      "source": [
        "temperatures.lower().count(\"mars\")"
      ]
    },
    {
      "cell_type": "code",
      "execution_count": null,
      "metadata": {
        "colab": {
          "base_uri": "https://localhost:8080/"
        },
        "id": "H9jGzV2Wzo4r",
        "outputId": "57d47af7-2ead-4904-9cde-87bb2272b3c6"
      },
      "outputs": [
        {
          "data": {
            "text/plain": [
              "0"
            ]
          },
          "execution_count": 24,
          "metadata": {},
          "output_type": "execute_result"
        }
      ],
      "source": [
        "temperatures.count(\"Moon\")"
      ]
    },
    {
      "cell_type": "markdown",
      "metadata": {
        "id": "IsxtMFJmzo4r"
      },
      "source": [
        "Las cadenas en Python distinguen mayúsculas de minúsculas, lo que significa que Luna y luna se consideran palabras diferentes. Para realizar una comparación sin distinguir mayúsculas de minúsculas, puede convertir una cadena en letras minúsculas mediante el método `.lower()`:"
      ]
    },
    {
      "cell_type": "code",
      "execution_count": null,
      "metadata": {
        "colab": {
          "base_uri": "https://localhost:8080/",
          "height": 35
        },
        "id": "mwNSk1Xdzo4x",
        "outputId": "2e983913-ddec-491a-bd5a-989859295a7a"
      },
      "outputs": [
        {
          "data": {
            "application/vnd.google.colaboratory.intrinsic+json": {
              "type": "string"
            },
            "text/plain": [
              "'the moon and the earth'"
            ]
          },
          "execution_count": 25,
          "metadata": {},
          "output_type": "execute_result"
        }
      ],
      "source": [
        "\"The Moon And The Earth\".lower()"
      ]
    },
    {
      "cell_type": "markdown",
      "metadata": {
        "id": "d_pj1oGKzo4x"
      },
      "source": [
        "Como sucede con el método `.lower()`, las cadenas tienen un método `.upper()` que hace lo contrario y convierte todos los caracteres en mayúsculas:"
      ]
    },
    {
      "cell_type": "code",
      "execution_count": null,
      "metadata": {
        "colab": {
          "base_uri": "https://localhost:8080/",
          "height": 35
        },
        "id": "b1LG5lO-zo4y",
        "outputId": "31e6919e-9bef-4d7f-ea40-54ab2660a44b"
      },
      "outputs": [
        {
          "data": {
            "application/vnd.google.colaboratory.intrinsic+json": {
              "type": "string"
            },
            "text/plain": [
              "'THE MOON AND THE EARTH'"
            ]
          },
          "execution_count": 26,
          "metadata": {},
          "output_type": "execute_result"
        }
      ],
      "source": [
        "\"The Moon And The Earth\".upper()"
      ]
    },
    {
      "cell_type": "markdown",
      "metadata": {
        "id": "zCKbKwj4zo4y"
      },
      "source": [
        "> **Sugerencia:** Al buscar y comprobar contenido, un enfoque más sólido consiste es convertir en minúsculas una cadena para que el uso de mayúsculas y minúsculas no impida una coincidencia. Por ejemplo, si va a contar el número de veces que aparece la palabra the, el método no contaría las veces en las que aparece The, aunque las dos sean la misma palabra. Puede usar el método .lower() para cambiar todos los caracteres a minúsculas.\n",
        "\n",
        "### 4.3.3. Comprobación del contenido\n",
        "Hay ocasiones en las que procesará texto para extraer información con una presentación irregular. Por ejemplo, la cadena siguiente es más fácil de procesar que un párrafo no estructurado:\n"
      ]
    },
    {
      "cell_type": "code",
      "execution_count": null,
      "metadata": {
        "id": "bdNCcPRmzo4y"
      },
      "outputs": [],
      "source": [
        "temperatures = \"Mars Average Temperature: -60 C\""
      ]
    },
    {
      "cell_type": "markdown",
      "metadata": {
        "id": "1cbYOx-hzo4y"
      },
      "source": [
        "Para extraer la temperatura media en Marte, puede hacerlo con los métodos siguientes:"
      ]
    },
    {
      "cell_type": "code",
      "execution_count": null,
      "metadata": {
        "colab": {
          "base_uri": "https://localhost:8080/"
        },
        "id": "uTf42dlLzo4z",
        "outputId": "dfec80e5-8792-4b0a-daa0-c9eea4b6bcb5"
      },
      "outputs": [
        {
          "data": {
            "text/plain": [
              "['Mars Average Temperature', ' -60 C']"
            ]
          },
          "execution_count": 31,
          "metadata": {},
          "output_type": "execute_result"
        }
      ],
      "source": [
        "parts = temperatures.split(':')\n",
        "parts"
      ]
    },
    {
      "cell_type": "code",
      "execution_count": null,
      "metadata": {
        "colab": {
          "base_uri": "https://localhost:8080/",
          "height": 35
        },
        "id": "9wpe7Ryyzo4z",
        "outputId": "7cf8c5c6-f143-41b6-abb5-c69d97d81e03"
      },
      "outputs": [
        {
          "data": {
            "application/vnd.google.colaboratory.intrinsic+json": {
              "type": "string"
            },
            "text/plain": [
              "' -60 C'"
            ]
          },
          "execution_count": 32,
          "metadata": {},
          "output_type": "execute_result"
        }
      ],
      "source": [
        "parts[-1]"
      ]
    },
    {
      "cell_type": "markdown",
      "metadata": {
        "id": "stE3chI5zo4z"
      },
      "source": [
        "El código anterior confía en que todo lo que hay después de los dos puntos (`:`) es una temperatura. La cadena se divide en `:`, lo que genera una lista de dos elementos. El uso de [-1] en la lista devuelve el último elemento que, en este ejemplo, es la temperatura.\n",
        "\n",
        "Si el texto es irregular, no puede usar los mismos métodos de división para obtener el valor. Debe recorrer en bucle los elementos y comprobar si los valores son de un tipo determinado. Python tiene métodos que ayudan a comprobar el tipo de cadena:"
      ]
    },
    {
      "cell_type": "code",
      "execution_count": null,
      "metadata": {
        "id": "HkuOeuogzo4z"
      },
      "outputs": [],
      "source": [
        "mars_temperature = \"The highest temperature on Mars is about 30 C\"\n",
        "for item in mars_temperature.split():\n",
        "    if item.isnumeric():\n",
        "        print(item)"
      ]
    },
    {
      "cell_type": "markdown",
      "metadata": {
        "id": "_V4YMJlgzo4z"
      },
      "source": [
        "Como sucede con el método `.isnumeric()`, `.isdecimal()` puede buscar cadenas que parezcan decimales.\n",
        "\n",
        "> **Importante:** Le sorprenderá saber que `\"-70\".isnumeric()` devolverá False. Esto se debe a que todos los caracteres de la cadena tendrían que ser numéricos y el guión (`-`) no lo es. Si tiene que comprobar números negativos en una cadena, el método `.isnumeric()` no funcionará.\n",
        "\n",
        "Hay validaciones adicionales que puede aplicar en las cadenas para comprobar si hay valores. En el caso de los números negativos, el guion se agrega como prefijo al número y se puede detectar con el método `.startswith()`:"
      ]
    },
    {
      "cell_type": "code",
      "execution_count": null,
      "metadata": {
        "colab": {
          "base_uri": "https://localhost:8080/"
        },
        "id": "JuaCMng8zo40",
        "outputId": "f7c63f79-5a66-4ec6-d0e1-70c2c55ba528"
      },
      "outputs": [
        {
          "data": {
            "text/plain": [
              "True"
            ]
          },
          "execution_count": 35,
          "metadata": {},
          "output_type": "execute_result"
        }
      ],
      "source": [
        "\"-60\".startswith('-')"
      ]
    },
    {
      "cell_type": "markdown",
      "metadata": {
        "id": "Zrq7yr9qzo40"
      },
      "source": [
        "De forma similar, el método .endswith() ayuda a comprobar el último carácter de una cadena:"
      ]
    },
    {
      "cell_type": "code",
      "execution_count": null,
      "metadata": {
        "colab": {
          "base_uri": "https://localhost:8080/"
        },
        "id": "XUQ35KBpzo40",
        "outputId": "9aad6a30-47ff-4d79-d788-a6ef40b795f7"
      },
      "outputs": [
        {
          "name": "stdout",
          "output_type": "stream",
          "text": [
            "This temperature is in Celsius\n"
          ]
        }
      ],
      "source": [
        "if \"30 C\".endswith(\"C\"):\n",
        "    print(\"This temperature is in Celsius\")"
      ]
    },
    {
      "cell_type": "markdown",
      "metadata": {
        "id": "zt2R2Knmzo40"
      },
      "source": [
        "### 4.3.4. Transformar texto\n",
        "Hay otros métodos que ayudan en situaciones en las que el texto se debe transformar en algo distinto. Hasta ahora, ha visto cadenas que pueden usar C para Celsius y F para Fahrenheit. Puede usar el método `.replace()` para buscar y reemplazar repeticiones de un carácter o grupo de caracteres:\n"
      ]
    },
    {
      "cell_type": "code",
      "execution_count": null,
      "metadata": {
        "colab": {
          "base_uri": "https://localhost:8080/",
          "height": 35
        },
        "id": "EX0XG572zo41",
        "outputId": "1ad0bdd1-7552-478e-f8ec-97ac18253143"
      },
      "outputs": [
        {
          "data": {
            "application/vnd.google.colaboratory.intrinsic+json": {
              "type": "string"
            },
            "text/plain": [
              "'Saturn has a daytime temperature of -170 degrees C, while Mars has -28 C.'"
            ]
          },
          "execution_count": 37,
          "metadata": {},
          "output_type": "execute_result"
        }
      ],
      "source": [
        "\"Saturn has a daytime temperature of -170 degrees Celsius, while Mars has -28 Celsius.\".replace(\"Celsius\", \"C\")"
      ]
    },
    {
      "cell_type": "markdown",
      "metadata": {
        "id": "PSqUb_Vnzo41"
      },
      "source": [
        "Como se ha mencionado antes, .`lower()` es una buena manera de normalizar el texto para realizar una búsqueda sin distinguir mayúsculas de minúsculas. Ahora se comprobará rápidamente si algún texto analiza las temperaturas:\n"
      ]
    },
    {
      "cell_type": "code",
      "execution_count": null,
      "metadata": {
        "colab": {
          "base_uri": "https://localhost:8080/"
        },
        "id": "N8IclC7izo41",
        "outputId": "1b0558aa-710d-45cc-9404-ffefa4a333e7"
      },
      "outputs": [
        {
          "data": {
            "text/plain": [
              "False"
            ]
          },
          "execution_count": 38,
          "metadata": {},
          "output_type": "execute_result"
        }
      ],
      "source": [
        "text = \"Temperatures on the Moon can vary wildly.\"\n",
        "\"temperatures\" in text"
      ]
    },
    {
      "cell_type": "code",
      "execution_count": null,
      "metadata": {
        "colab": {
          "base_uri": "https://localhost:8080/"
        },
        "id": "reqgLsAAzo41",
        "outputId": "8bfcfa07-e5dc-48db-a7ee-64e155957b1a"
      },
      "outputs": [
        {
          "data": {
            "text/plain": [
              "True"
            ]
          },
          "execution_count": 39,
          "metadata": {},
          "output_type": "execute_result"
        }
      ],
      "source": [
        "\"temperatures\" in text.lower()"
      ]
    },
    {
      "cell_type": "markdown",
      "metadata": {
        "id": "aD36SpZNzo42"
      },
      "source": [
        "Es posible que no tenga que realizar la comprobación sin distinguir mayúsculas de minúsculas todo el tiempo, pero convertir en minúsculas todas las letras es un buen enfoque cuando en el texto se usa una mezcla de mayúsculas y minúsculas.\n",
        "\n",
        "Después de dividir el texto y realizar las transformaciones, es posible que tenga que volver a ensamblar todas las piezas. Al igual que el método `.split()` puede separar caracteres, el método `.join()` puede volver a agruparlos.\n",
        "\n",
        "El método `.join()` necesita un elemento iterable (como una lista de Python) como argumento, por lo que su uso es diferente al de otros métodos de cadena:\n"
      ]
    },
    {
      "cell_type": "code",
      "execution_count": null,
      "metadata": {
        "colab": {
          "base_uri": "https://localhost:8080/",
          "height": 35
        },
        "id": "BoQ2RiLyzo42",
        "outputId": "4c8e6d7c-3019-4a8e-afc2-3d980eac09ad"
      },
      "outputs": [
        {
          "data": {
            "application/vnd.google.colaboratory.intrinsic+json": {
              "type": "string"
            },
            "text/plain": [
              "'The Moon is drifting away from the Earth.\\nOn average, the Moon is moving about 4cm every year'"
            ]
          },
          "execution_count": 44,
          "metadata": {},
          "output_type": "execute_result"
        }
      ],
      "source": [
        "moon_facts = [\"The Moon is drifting away from the Earth.\", \"On average, the Moon is moving about 4cm every year\"]\n",
        "'\\n'.join(moon_facts)"
      ]
    },
    {
      "cell_type": "markdown",
      "metadata": {
        "id": "grKyydZazo42"
      },
      "source": [
        "## 4.4. Formato de cadenas\n",
        "Además de transformar texto y realizar operaciones básicas, como buscar y buscar coincidencias, es esencial dar formato al texto al presentar información. La manera más sencilla de presentar información de texto con Python consiste en usar la función `print()`. Comprobará que es fundamental incluir información en variables y otras estructuras de datos en cadenas que `print()` pueda usar.\n",
        "\n",
        "En esta unidad, aprenderá varias maneras válidas de incluir valores de variable en el texto mediante Python.\n",
        "\n",
        "### 4.4.1. Formato de signo de porcentaje (%)\n",
        "El marcador de posición de la variable de la cadena es `%s`. Después de la cadena, use otro carácter `%` seguido del nombre de la variable. En el ejemplo siguiente, se muestra cómo dar formato mediante el carácter `%`:\n"
      ]
    },
    {
      "cell_type": "code",
      "execution_count": null,
      "metadata": {
        "colab": {
          "base_uri": "https://localhost:8080/"
        },
        "id": "D2y0XOezzo42",
        "outputId": "b296566b-5188-4bb6-abb5-cd6e9646d2f0"
      },
      "outputs": [
        {
          "name": "stdout",
          "output_type": "stream",
          "text": [
            "On the Moon, you would weigh about 1/6 of your weight on Earth\n"
          ]
        }
      ],
      "source": [
        "mass_percentage = \"1/6\"\n",
        "print(\"On the Moon, you would weigh about %s of your weight on Earth\" % mass_percentage)"
      ]
    },
    {
      "cell_type": "markdown",
      "metadata": {
        "id": "bsqBtxHNzo43"
      },
      "source": [
        "El uso de varios valores cambia la sintaxis, ya que se necesitan paréntesis para rodear las variables que se pasan:"
      ]
    },
    {
      "cell_type": "code",
      "execution_count": null,
      "metadata": {
        "colab": {
          "base_uri": "https://localhost:8080/"
        },
        "id": "dM56QrHfzo43",
        "outputId": "3afb08be-5fb7-4068-9cf1-c28046e5a1d7"
      },
      "outputs": [
        {
          "name": "stdout",
          "output_type": "stream",
          "text": [
            "Both sides of the Moon get the same amount of sunlight,\n",
            "but only one side is seen from Earth because\n",
            "the Moon rotates around its own axis when it orbits Earth.\n"
          ]
        }
      ],
      "source": [
        "print(\"\"\"Both sides of the %s get the same amount of sunlight,\n",
        "... but only one side is seen from %s because\n",
        "... the %s rotates around its own axis when it orbits %s.\"\"\" % (\"Moon\", \"Earth\", \"Moon\", \"Earth\"))\n"
      ]
    },
    {
      "cell_type": "markdown",
      "metadata": {
        "id": "m4kSIqHNzo43"
      },
      "source": [
        "> **Sugerencia:** Aunque este método sigue siendo una manera válida de dar formato a las cadenas, puede provocar errores y reducir la claridad del código cuando se trabaja con varias variables. Cualquiera de las otras dos opciones de formato descritas en esta unidad sería más adecuada para este propósito.\n",
        "\n",
        "El método `format()`\n",
        "El método `.format()` usa llaves (`{}`) como marcadores de posición dentro de una cadena y utiliza la asignación de variables para reemplazar texto."
      ]
    },
    {
      "cell_type": "code",
      "execution_count": null,
      "metadata": {
        "colab": {
          "base_uri": "https://localhost:8080/"
        },
        "id": "sbbPjvOPzo43",
        "outputId": "60f0d3e8-fe1c-486e-87ae-c5ce15a08ef3"
      },
      "outputs": [
        {
          "name": "stdout",
          "output_type": "stream",
          "text": [
            "On the Moon, you would weigh about 1/6 of your weight on Earth\n"
          ]
        }
      ],
      "source": [
        "mass_percentage = \"1/6\"\n",
        "print(\"On the Moon, you would weigh about {} of your weight on Earth\".format(mass_percentage))"
      ]
    },
    {
      "cell_type": "markdown",
      "metadata": {
        "id": "5R9Joxuizo43"
      },
      "source": [
        "No es necesario asignar variables repetidas varias veces, lo que hace que sea menos detallado porque es necesario asignar menos variables:"
      ]
    },
    {
      "cell_type": "code",
      "execution_count": null,
      "metadata": {
        "colab": {
          "base_uri": "https://localhost:8080/"
        },
        "id": "gQ8YhFBtzo44",
        "outputId": "574c3d73-2b07-428e-aa27-95bf055b666c"
      },
      "outputs": [
        {
          "name": "stdout",
          "output_type": "stream",
          "text": [
            "You are lighter on the Moon, because on the Moon \n",
            "you would weigh about 1/6 of your weight on Earth\n"
          ]
        }
      ],
      "source": [
        "print(\"\"\"You are lighter on the {0}, because on the {0}\n",
        "... you would weigh about {1} of your weight on Earth\"\"\".format(\"Moon\", mass_percentage))"
      ]
    },
    {
      "cell_type": "markdown",
      "metadata": {
        "id": "_gsTS0Iozo44"
      },
      "source": [
        "En lugar de llaves vacías, la sustitución consiste en usar números. `{0}` significa usar el primer argumento (índice cero) de `.format()`, que en este caso es Moon. `{0}` funciona bien para una repetición simple, pero reduce la legibilidad. Para mejorar la legibilidad, use argumentos de palabra clave en `.format()` y, después, haga referencia a los mismos argumentos entre llaves:\n"
      ]
    },
    {
      "cell_type": "code",
      "execution_count": null,
      "metadata": {
        "colab": {
          "base_uri": "https://localhost:8080/"
        },
        "id": "6oLgePzjzo44",
        "outputId": "957a414c-d96e-4b34-dabf-726a4ada30df"
      },
      "outputs": [
        {
          "name": "stdout",
          "output_type": "stream",
          "text": [
            "You are lighter on the Moon, because on the Moon \n",
            "you would weigh about 1/6 of your weight on Earth\n"
          ]
        }
      ],
      "source": [
        "print(\"\"\"You are lighter on the {moon}, because on the {moon}\n",
        "... you would weigh about {mass} of your weight on Earth\"\"\".format(moon=\"Moon\", mass=mass_percentage))"
      ]
    },
    {
      "cell_type": "markdown",
      "metadata": {
        "id": "H8SilAdFzo44"
      },
      "source": [
        "### 4.4.2. Las cadenas `f-strings`\n",
        "A partir de la versión 3.6 de Python, es posible usar `f-strings`. Estas cadenas parecen plantillas y usan los nombres de variable del código. El uso de `f-strings` en el ejemplo anterior tendría el siguiente aspecto:\n"
      ]
    },
    {
      "cell_type": "code",
      "execution_count": null,
      "metadata": {
        "colab": {
          "base_uri": "https://localhost:8080/"
        },
        "id": "6H0siG4ezo44",
        "outputId": "3c5766d5-4ca1-470e-c458-2c4b17257639"
      },
      "outputs": [
        {
          "name": "stdout",
          "output_type": "stream",
          "text": [
            "On the Moon, you would weigh about 1/6 of your weight on Earth\n"
          ]
        }
      ],
      "source": [
        "print(f\"On the Moon, you would weigh about {mass_percentage} of your weight on Earth\")"
      ]
    },
    {
      "cell_type": "markdown",
      "metadata": {
        "id": "tg-ASzJ6zo45"
      },
      "source": [
        "Las variables se incluyen entre llaves y la cadena debe usar el prefijo `f`.\n",
        "\n",
        "Además de que las `f-strings` son menos detalladas que cualquier otra opción de formato, es posible usar expresiones entre llaves. Estas expresiones pueden ser funciones u operaciones directas. Por ejemplo, si quiere representar el valor 1/6 como un porcentaje con una posición decimal, puede usar directamente la función `round()`:\n"
      ]
    },
    {
      "cell_type": "code",
      "execution_count": null,
      "metadata": {
        "colab": {
          "base_uri": "https://localhost:8080/"
        },
        "id": "718k-Fxpzo45",
        "outputId": "423b5015-bf17-4bee-a5d2-ad5333f52651"
      },
      "outputs": [
        {
          "data": {
            "text/plain": [
              "16.67"
            ]
          },
          "execution_count": 55,
          "metadata": {},
          "output_type": "execute_result"
        }
      ],
      "source": [
        "round(100/6, 2)"
      ]
    },
    {
      "cell_type": "markdown",
      "metadata": {
        "id": "8SVej5_Lzo45"
      },
      "source": [
        "Con `f-strings`, no es necesario asignar un valor a una variable de antemano:"
      ]
    },
    {
      "cell_type": "code",
      "execution_count": null,
      "metadata": {
        "colab": {
          "base_uri": "https://localhost:8080/"
        },
        "id": "3JD0Pb7Uzo45",
        "outputId": "3cccb57a-f662-4776-a7a3-2c777140d1b3"
      },
      "outputs": [
        {
          "name": "stdout",
          "output_type": "stream",
          "text": [
            "On the Moon, you would weigh about 16.67% of your weight on Earth\n"
          ]
        }
      ],
      "source": [
        "print(f\"On the Moon, you would weigh about {round(100/6, 2)}% of your weight on Earth\")"
      ]
    },
    {
      "cell_type": "markdown",
      "metadata": {
        "id": "aMKH3panzo45"
      },
      "source": [
        "Para usar una expresión no es necesaria una llamada de función. Cualquiera de los métodos de cadena también son válidos. Por ejemplo, la cadena podría aplicar un uso específico de mayúsculas y minúsculas para crear un título:"
      ]
    },
    {
      "cell_type": "code",
      "execution_count": null,
      "metadata": {
        "colab": {
          "base_uri": "https://localhost:8080/",
          "height": 35
        },
        "id": "CI33N6_5zo46",
        "outputId": "92d711c7-45a2-41b5-d4f0-560b7bccd93f"
      },
      "outputs": [
        {
          "data": {
            "application/vnd.google.colaboratory.intrinsic+json": {
              "type": "string"
            },
            "text/plain": [
              "'Interesting Facts About The Moon'"
            ]
          },
          "execution_count": 58,
          "metadata": {},
          "output_type": "execute_result"
        }
      ],
      "source": [
        "subject = \"interesting facts about the moon\"\n",
        "f\"{subject.title()}\""
      ]
    },
    {
      "cell_type": "markdown",
      "metadata": {
        "id": "0VxcINDrzo46"
      },
      "source": [
        "## 4.5. Ejercicios con cadenas\n",
        "\n",
        "1. Pedir al usuario sus datos personales y generar su CURP.\n",
        "\n",
        "2. Dado un número obtener una cadena que lo represente con palabras para llenar un cheque. Por ejemplo, el número `12535.23` tiene que generar la cadena `'DOCEMIL QUINIENTOS TREINTA Y CINCO 23/100 M.N'`."
      ]
    },
    {
      "cell_type": "markdown",
      "metadata": {
        "id": "NcA9ibKOzo46"
      },
      "source": [
        "### 4.5.1. De número a cadena"
      ]
    },
    {
      "cell_type": "markdown",
      "metadata": {
        "id": "iw1vpfIBzo46"
      },
      "source": [
        "Dado un número entero positivo encontrar su representación en lenguaje natural en una cadena. Por ejemplo, dado el número `34215` regresar la cadena `\"teinta y cuatro mil doscientos quince\"`."
      ]
    },
    {
      "cell_type": "markdown",
      "metadata": {
        "id": "AZWEVzQpzo46"
      },
      "source": [
        "#### Empecemos por lo más fácil: un dígito\n",
        "\n",
        "Supongamos que el número es de un solo dígito, es decir el número es menor que 10 (recordemos que es un entero positivo). La forma más sencilla sería tener los nombres de los digitos en una lista:"
      ]
    },
    {
      "cell_type": "code",
      "execution_count": null,
      "metadata": {
        "id": "vNbY9g9gzo46"
      },
      "outputs": [],
      "source": [
        "unidades = ['cero', 'uno', 'dos', 'tres', 'cuatro', 'cinco', 'seis', 'siete', 'ocho', 'nueve']"
      ]
    },
    {
      "cell_type": "markdown",
      "metadata": {
        "id": "O_NNtJvKzo47"
      },
      "source": [
        "Entonces la primera versión sería:"
      ]
    },
    {
      "cell_type": "code",
      "execution_count": null,
      "metadata": {
        "colab": {
          "base_uri": "https://localhost:8080/",
          "height": 35
        },
        "id": "NNlyshYnzo5K",
        "outputId": "942226c8-05ea-498a-f90b-38c678b071ef"
      },
      "outputs": [
        {
          "data": {
            "application/vnd.google.colaboratory.intrinsic+json": {
              "type": "string"
            },
            "text/plain": [
              "'cinco'"
            ]
          },
          "execution_count": 63,
          "metadata": {},
          "output_type": "execute_result"
        }
      ],
      "source": [
        "def numero_a_texto(numero):\n",
        "    \"\"\"Convierte un número a texto\"\"\"\n",
        "    if numero < 10:\n",
        "        return unidades[numero]\n",
        "    else:\n",
        "        return 'más de nueve'\n",
        "\n",
        "numero_a_texto(5)"
      ]
    },
    {
      "cell_type": "markdown",
      "metadata": {
        "id": "mwen0mx7zo5L"
      },
      "source": [
        "#### Ahora con 2 dígitos\n",
        "Para números hasta `100` existen varias excepciones, particularmente entre `10` y `20`, podemos entonces dar el mismo tratamiento:"
      ]
    },
    {
      "cell_type": "code",
      "execution_count": null,
      "metadata": {
        "colab": {
          "base_uri": "https://localhost:8080/",
          "height": 35
        },
        "id": "hFErTRh8zo5L",
        "outputId": "226b0103-8730-47c9-8503-68e00095f563"
      },
      "outputs": [
        {
          "data": {
            "application/vnd.google.colaboratory.intrinsic+json": {
              "type": "string"
            },
            "text/plain": [
              "'quince'"
            ]
          },
          "execution_count": 64,
          "metadata": {},
          "output_type": "execute_result"
        }
      ],
      "source": [
        "decenas1 = ['diez', 'once', 'doce', 'trece', 'catorce', 'quince', 'dieciséis', 'diecisiete', 'dieciocho', 'diecinueve']\n",
        "\n",
        "def numero_a_texto(numero):\n",
        "    \"\"\"Convierte un número a texto\"\"\"\n",
        "    if numero < 10:\n",
        "        return unidades[numero]\n",
        "    elif numero < 20:\n",
        "        return decenas1[numero - 10]\n",
        "    else:\n",
        "        return 'más de diecinueve'\n",
        "\n",
        "numero_a_texto(15)"
      ]
    },
    {
      "cell_type": "markdown",
      "metadata": {
        "id": "AV235gMIzo5M"
      },
      "source": [
        "> **Nota:** el número solo caerá en alguno de los casos (menos de 10, entre 10 y 19, y más de 19). Como lo que se ejecutará es un `return`, entonces la función regresará inmediatamente; por lo que `elif` y `else` salen sobrando. Por lo que el siguiente código es equivalente:"
      ]
    },
    {
      "cell_type": "code",
      "execution_count": null,
      "metadata": {
        "colab": {
          "base_uri": "https://localhost:8080/",
          "height": 35
        },
        "id": "1rsf73bOzo5M",
        "outputId": "dbfd34fa-a601-4bbb-a5f5-bbd108ac109e"
      },
      "outputs": [
        {
          "data": {
            "application/vnd.google.colaboratory.intrinsic+json": {
              "type": "string"
            },
            "text/plain": [
              "'quince'"
            ]
          },
          "execution_count": 65,
          "metadata": {},
          "output_type": "execute_result"
        }
      ],
      "source": [
        "def numero_a_texto(numero):\n",
        "    \"\"\"Convierte un número a texto\"\"\"\n",
        "    if numero < 10:\n",
        "        return unidades[numero]\n",
        "\n",
        "    if numero < 20:\n",
        "        return decenas1[numero - 10]\n",
        "\n",
        "    return 'más de diecinueve'\n",
        "\n",
        "numero_a_texto(15)"
      ]
    },
    {
      "cell_type": "markdown",
      "metadata": {
        "id": "zbfIV6xczo5M"
      },
      "source": [
        "El resto de números menores de 100 siguen el patrón `decena y unidad`, con excepción de los `20's`, cuyo patrón es `veintiunidad`. Así, necesitaremos los nombres de las decenas:"
      ]
    },
    {
      "cell_type": "code",
      "execution_count": null,
      "metadata": {
        "id": "xRYA1scSzo5M"
      },
      "outputs": [],
      "source": [
        "decenas2 = ['veinte', 'treinta', 'cuarenta', 'cincuenta', 'sesenta', 'setenta', 'ochenta', 'noventa']"
      ]
    },
    {
      "cell_type": "markdown",
      "metadata": {
        "id": "fjlw4cU5zo5N"
      },
      "source": [
        "y agregamos esa parte a nuestra función:"
      ]
    },
    {
      "cell_type": "code",
      "execution_count": null,
      "metadata": {
        "colab": {
          "base_uri": "https://localhost:8080/",
          "height": 35
        },
        "id": "8TcSU49Ezo5N",
        "outputId": "0adb6505-410a-4d80-b98a-9985db906c45"
      },
      "outputs": [
        {
          "data": {
            "application/vnd.google.colaboratory.intrinsic+json": {
              "type": "string"
            },
            "text/plain": [
              "'setenta y cuatro'"
            ]
          },
          "execution_count": 68,
          "metadata": {},
          "output_type": "execute_result"
        }
      ],
      "source": [
        "def numero_a_texto(numero):\n",
        "    \"\"\"Convierte un número a letras\"\"\"\n",
        "    if numero < 10:                     # convierte un numero de 1 digito a cadena\n",
        "        return unidades[numero]\n",
        "\n",
        "    if numero < 20:                     # convierte a cadena entre 10 y 19\n",
        "        return decenas1[numero - 10]\n",
        "\n",
        "    if numero < 30:                     # convierte a cadena entre 20 y 29\n",
        "        if numero % 10 == 0:            # convierte el número 20\n",
        "            return 'veinte'\n",
        "        else:                           # para numeros entre 21 y 29\n",
        "            return 'veinti' + unidades[numero % 10]\n",
        "\n",
        "    if numero < 100:                    # numeros de dos digitos mayores o iguales que 30\n",
        "        if numero % 10 == 0:            # (no) tiene unidades ?\n",
        "            return decenas2[numero // 10 - 2]\n",
        "        else:\n",
        "            return decenas2[numero // 10 - 2] + ' y ' + unidades[numero % 10]\n",
        "\n",
        "    return 'más de noventa y nueve'\n",
        "\n",
        "numero_a_texto(74)"
      ]
    },
    {
      "cell_type": "markdown",
      "metadata": {
        "id": "NQeEMWdKzo5e"
      },
      "source": [
        "Recordemos que `//` es el cociente piso, mientras que `%` es el módulo o residuo. Al calcular `numero % 10`, determinamos si el número termina en cero; en tal caso, no se agrega el nombre de la unidad."
      ]
    },
    {
      "cell_type": "markdown",
      "metadata": {
        "id": "30tV6yPyzo5f"
      },
      "source": [
        "#### Tres dígitos, incluimos las centenas\n",
        "\n",
        "Ahora para valores entre 100 y 999 (números de 3 dígitos) necesitamos el nombre de las centenas:"
      ]
    },
    {
      "cell_type": "code",
      "execution_count": null,
      "metadata": {
        "id": "2w2krxBTzo5f"
      },
      "outputs": [],
      "source": [
        "centenas = ['ciento', 'doscientos', 'trescientos', 'cuatrocientos', 'quinientos', 'seiscientos', 'setecientos', 'ochocientos', 'novecientos']"
      ]
    },
    {
      "cell_type": "markdown",
      "metadata": {
        "id": "-3JOFqprzo5f"
      },
      "source": [
        "Los números de 3 digitos siguen el siguiente patrón: `centena (número de 2 dígitos)`, con excepción del 100. Para calcular en texto del número de 2 digitos utilzamos la misma función que estamos construyendo, pero con la parte de 2 digitos que queremos calcular. Hacemos una llamada ***RECURSIVA***."
      ]
    },
    {
      "cell_type": "code",
      "execution_count": null,
      "metadata": {
        "colab": {
          "base_uri": "https://localhost:8080/",
          "height": 35
        },
        "id": "OQ2MsZlvzo5g",
        "outputId": "b8412312-b16a-424b-8550-516416c64a91"
      },
      "outputs": [
        {
          "data": {
            "application/vnd.google.colaboratory.intrinsic+json": {
              "type": "string"
            },
            "text/plain": [
              "'setecientos veintitres'"
            ]
          },
          "execution_count": 71,
          "metadata": {},
          "output_type": "execute_result"
        }
      ],
      "source": [
        "def numero_a_texto(numero):\n",
        "    \"\"\"Convierte un número a letras\"\"\"\n",
        "    if numero < 10:\n",
        "        return unidades[numero]\n",
        "    if numero < 20:\n",
        "        return decenas1[numero - 10]\n",
        "    if numero < 30:\n",
        "        if numero % 10 == 0:\n",
        "            return 'veinte'\n",
        "        else:\n",
        "            return 'veinti' + unidades[numero % 10]\n",
        "    if numero < 100:\n",
        "        if numero % 10 == 0:\n",
        "            return decenas2[numero // 10 - 2]\n",
        "        else:\n",
        "            return decenas2[numero // 10 - 2] + ' y ' + unidades[numero % 10]\n",
        "\n",
        "\n",
        "    if numero < 1000:\n",
        "        if numero == 100:\n",
        "            return 'cien'\n",
        "        if numero % 100 == 0:\n",
        "            return centenas[numero // 100 - 1]\n",
        "        else:\n",
        "            return centenas[numero // 100 - 1] + ' ' + numero_a_texto(numero % 100)\n",
        "\n",
        "    return 'más de novecientos noventa y nueve'\n",
        "\n",
        "numero_a_texto(723)"
      ]
    },
    {
      "cell_type": "markdown",
      "metadata": {
        "id": "_eO87pZ3zo5g"
      },
      "source": [
        "#### Comenzamos con los patrones\n",
        "Para números entre 1000 y 1 millón vamos a encontrar el siguiente patrón: `(número de tres dígitos) mil (número de tres dígitos)`. Con la excepción de los números entre 1000 y 1999 que deben comenzar con el texto `\"un mil\"` (el uso directo de esta función es el de generar cheques)."
      ]
    },
    {
      "cell_type": "code",
      "execution_count": null,
      "metadata": {
        "colab": {
          "base_uri": "https://localhost:8080/",
          "height": 35
        },
        "id": "BFUN0Ht_zo5i",
        "outputId": "7c5b806d-05df-45e5-afd0-bd496ff70b01"
      },
      "outputs": [
        {
          "data": {
            "application/vnd.google.colaboratory.intrinsic+json": {
              "type": "string"
            },
            "text/plain": [
              "'ciento veinticuatro mil doscientos treinta y cuatro'"
            ]
          },
          "execution_count": 72,
          "metadata": {},
          "output_type": "execute_result"
        }
      ],
      "source": [
        "def numero_a_texto(numero):\n",
        "    \"\"\"Convierte un número a letras\"\"\"\n",
        "    if numero < 10:\n",
        "        return unidades[numero]\n",
        "    if numero < 20:\n",
        "        return decenas1[numero - 10]\n",
        "    if numero < 30:\n",
        "        if numero % 10 == 0:\n",
        "            return 'veinte'\n",
        "        else:\n",
        "            return 'veinti' + unidades[numero % 10]\n",
        "    if numero < 100:\n",
        "        if numero % 10 == 0:\n",
        "            return decenas2[numero // 10 - 2]\n",
        "        else:\n",
        "            return decenas2[numero // 10 - 2] + ' y ' + unidades[numero % 10]\n",
        "    if numero < 1000:\n",
        "        if numero == 100:\n",
        "            return 'cien'\n",
        "        if numero % 100 == 0:\n",
        "            return centenas[numero // 100 - 1]\n",
        "        else:\n",
        "            return centenas[numero // 100 - 1] + ' ' + numero_a_texto(numero % 100)\n",
        "\n",
        "\n",
        "\n",
        "    if numero < 1000000:\n",
        "        if numero == 1000:\n",
        "            return 'un mil'\n",
        "        if numero < 2000:\n",
        "            return 'un mil ' + numero_a_texto(numero % 1000)\n",
        "        if numero % 1000 == 0:\n",
        "            return numero_a_texto(numero // 1000) + ' mil'\n",
        "        else:\n",
        "            return numero_a_texto(numero // 1000) + ' mil ' + numero_a_texto(numero % 1000)\n",
        "\n",
        "    return 'más de un millón'\n",
        "\n",
        "numero_a_texto(124234)"
      ]
    },
    {
      "cell_type": "markdown",
      "metadata": {
        "id": "vhFYb9lazo5l"
      },
      "source": [
        "OK, y ahora que hacemos con los números mayores de 1, millón? Pues vamos a ver que sigue un patrón idéntico cuando los números crecen de millón en millón. De esta forma el número 1,245,345,865 tiene su representación como `\"un mil doscientos cuarenta y cinco millones trescientos cuarenta y cinco mil ochocientos sesenta y cinco\"`. Entonces encontramos que el patrón sería: `(número de 6 digitos) millones (numero de 6 dígitos)`. Con la excepción de que cuando el primer número de 6 dígitos es `\"uno\"`, entonces la palabra `\"millones\"` cambia al singular millón.\n",
        "\n",
        "> **NOTA:** Recordemos que en español, 1000 millones es precisamente eso 1000 millones. A veces se confunde porque en el idioma inglés 1000 millones se traduce como 1 billon."
      ]
    },
    {
      "cell_type": "code",
      "execution_count": null,
      "metadata": {
        "colab": {
          "base_uri": "https://localhost:8080/",
          "height": 35
        },
        "id": "m92Q_w9Vzo5l",
        "outputId": "959d3826-a881-4a99-9ed3-f42566ddc0b9"
      },
      "outputs": [
        {
          "data": {
            "application/vnd.google.colaboratory.intrinsic+json": {
              "type": "string"
            },
            "text/plain": [
              "'doscientos treinta y cuatro millones quinientos cuarenta y seis'"
            ]
          },
          "execution_count": 73,
          "metadata": {},
          "output_type": "execute_result"
        }
      ],
      "source": [
        "def numero_a_texto(numero):\n",
        "    \"\"\"Convierte un número a letras\"\"\"\n",
        "    if numero < 10:\n",
        "        return unidades[numero]\n",
        "    if numero < 20:\n",
        "        return decenas1[numero - 10]\n",
        "    if numero < 30:\n",
        "        if numero % 10 == 0:\n",
        "            return 'veinte'\n",
        "        else:\n",
        "            return 'veinti' + unidades[numero % 10]\n",
        "    if numero < 100:\n",
        "        if numero % 10 == 0:\n",
        "            return decenas2[numero // 10 - 2]\n",
        "        else:\n",
        "            return decenas2[numero // 10 - 2] + ' y ' + unidades[numero % 10]\n",
        "    if numero < 1000:\n",
        "        if numero == 100:\n",
        "            return 'cien'\n",
        "        if numero % 100 == 0:\n",
        "            return centenas[numero // 100 - 1]\n",
        "        else:\n",
        "            return centenas[numero // 100 - 1] + ' ' + numero_a_texto(numero % 100)\n",
        "    if numero < 1000000:\n",
        "        if numero == 1000:\n",
        "            return 'un mil'\n",
        "        if numero < 2000:\n",
        "            return 'un mil ' + numero_a_texto(numero % 1000)\n",
        "        if numero % 1000 == 0:\n",
        "            return numero_a_texto(numero // 1000) + ' mil'\n",
        "        else:\n",
        "            return numero_a_texto(numero // 1000) + ' mil ' + numero_a_texto(numero % 1000)\n",
        "\n",
        "\n",
        "\n",
        "    if numero < 1000000000000:\n",
        "        if numero == 1000000:\n",
        "            return 'un millón'\n",
        "        if numero < 2000000:\n",
        "            return 'un millón ' + numero_a_texto(numero % 1000000)\n",
        "        if numero % 1000000 == 0:\n",
        "            return numero_a_texto(numero // 1000000) + ' millones'\n",
        "        else:\n",
        "            return numero_a_texto(numero // 1000000) + ' millones ' + numero_a_texto(numero % 1000000)\n",
        "\n",
        "    return 'más de un billón'\n",
        "\n",
        "numero_a_texto(234000546)"
      ]
    },
    {
      "cell_type": "markdown",
      "metadata": {
        "id": "54i1dRnKzo5l"
      },
      "source": [
        "#### Generalización de los patrones\n",
        "\n",
        "De aquí en adelante el patrón es similar de 6 dígitos en 6 dígitos:\n",
        "\n",
        "```\n",
        "(número de 6 dígitos) billones (número de 12 dígitos)\n",
        "(número de 6 dígitos) trillones (número de 18 dígitos)\n",
        "(número de 6 dígitos) cuatrillones (número de 24 dígitos)\n",
        "etc.\n",
        "```\n",
        "\n",
        "con sus respectivas excepciones con el singular y el plural. Entonces, podemos generalizar. Primero, necesitamos los nombres de los cúmulos de 6 dígitos:"
      ]
    },
    {
      "cell_type": "code",
      "execution_count": null,
      "metadata": {
        "id": "JNEcOmYMzo5m"
      },
      "outputs": [],
      "source": [
        "singulares = ['un millón', 'un billón', 'un trillón', 'un cuatrillón', 'un quintillón']\n",
        "plurales = ['millones', 'billones', 'trillones', 'cuatrillones', 'quintillones']"
      ]
    },
    {
      "cell_type": "markdown",
      "metadata": {
        "id": "QRdkGYOPzo5m"
      },
      "source": [
        "La generalización es más o menos como sigue: calculamos el número base a partir del cual es válida la regla, también calculamos el límite hasta donde es válida la misma regla. Vamos a utilizar un índice que va a recorrer los números de los nombres de los cúmulos que hemos definido, de tal forma que el índice es en realidad un exponente al cual vamos a elevar 1 millón para calcular la base (1 millón elevado al índice) y el límite (la base por 1 millón o  1 millón elevado al índice más 1). Con estos números, determinamos si la regla aplica al número actual. Si es así verificamos si es el caso de el valor singular, de lo contrario aplicamos la regla si es un valor plural"
      ]
    },
    {
      "cell_type": "code",
      "execution_count": null,
      "metadata": {
        "colab": {
          "base_uri": "https://localhost:8080/",
          "height": 53
        },
        "id": "3095_p7vzo5m",
        "outputId": "acb8ef67-b4fa-4cf4-874c-b565a9b5f308"
      },
      "outputs": [
        {
          "data": {
            "application/vnd.google.colaboratory.intrinsic+json": {
              "type": "string"
            },
            "text/plain": [
              "'seiscientos cincuenta y dos mil tres billones setecientos cuarenta y cinco mil quinientos treinta y cuatro millones quinientos cuarenta y seis'"
            ]
          },
          "execution_count": 76,
          "metadata": {},
          "output_type": "execute_result"
        }
      ],
      "source": [
        "def numero_a_texto(numero):\n",
        "    \"\"\"Convierte un número a letras\"\"\"\n",
        "    if numero < 10:\n",
        "        return unidades[numero]\n",
        "    if numero < 20:\n",
        "        return decenas1[numero - 10]\n",
        "    if numero < 30:\n",
        "        if numero % 10 == 0:\n",
        "            return 'veinte'\n",
        "        else:\n",
        "            return 'veinti' + unidades[numero % 10]\n",
        "    if numero < 100:\n",
        "        if numero % 10 == 0:\n",
        "            return decenas2[numero // 10 - 2]\n",
        "        else:\n",
        "            return decenas2[numero // 10 - 2] + ' y ' + unidades[numero % 10]\n",
        "    if numero < 1000:\n",
        "        if numero == 100:\n",
        "            return 'cien'\n",
        "        if numero % 100 == 0:\n",
        "            return centenas[numero // 100 - 1]\n",
        "        else:\n",
        "            return centenas[numero // 100 - 1] + ' ' + numero_a_texto(numero % 100)\n",
        "    if numero < 1000000:\n",
        "        if numero == 1000:\n",
        "            return 'un mil'\n",
        "        if numero < 2000:\n",
        "            return 'un mil ' + numero_a_texto(numero % 1000)\n",
        "        if numero % 1000 == 0:\n",
        "            return numero_a_texto(numero // 1000) + ' mil'\n",
        "        else:\n",
        "            return numero_a_texto(numero // 1000) + ' mil ' + numero_a_texto(numero % 1000)\n",
        "\n",
        "\n",
        "\n",
        "\n",
        "    for i in range(0, len(singulares)):\n",
        "        base = 1000000 ** (i + 1)\n",
        "        limite = base * 1000000\n",
        "        if numero < limite:\n",
        "            if numero == base:\n",
        "                return singulares[i]\n",
        "            if numero < 2 * base:\n",
        "                return singulares[i] + ' ' + numero_a_texto(numero % base)\n",
        "\n",
        "            if numero % base == 0:\n",
        "                return numero_a_texto(numero // base) + ' ' + plurales[i]\n",
        "            else:\n",
        "                return numero_a_texto(numero // base) + ' ' + plurales[i] + ' ' + numero_a_texto(numero % base)\n",
        "\n",
        "    return 'un número muuuuuuuy grande'\n",
        "\n",
        "\n",
        "numero_a_texto(652003745534000546)"
      ]
    },
    {
      "cell_type": "markdown",
      "metadata": {
        "id": "fh0Gen9Wzo5n"
      },
      "source": [
        "#### Versión final\n",
        "\n",
        "Poniendo todo junto tenemos:"
      ]
    },
    {
      "cell_type": "code",
      "execution_count": 2,
      "metadata": {
        "colab": {
          "base_uri": "https://localhost:8080/",
          "height": 53
        },
        "id": "4S6bOII3zo5o",
        "outputId": "3a09d656-17b4-4a39-e2f9-ff9fcd7b112b"
      },
      "outputs": [
        {
          "data": {
            "text/plain": [
              "'doscientos treinta y cuatro millones doscientos treinta y cuatro mil doscientos treinta y cuatro'"
            ]
          },
          "execution_count": 2,
          "metadata": {},
          "output_type": "execute_result"
        }
      ],
      "source": [
        "unidades = ['cero', 'uno', 'dos', 'tres', 'cuatro', 'cinco', 'seis', 'siete', 'ocho', 'nueve']\n",
        "decenas1 = ['diez', 'once', 'doce', 'trece', 'catorce', 'quince', 'dieciséis', 'diecisiete', 'dieciocho', 'diecinueve']\n",
        "decenas2 = ['veinte', 'treinta', 'cuarenta', 'cincuenta', 'sesenta', 'setenta', 'ochenta', 'noventa']\n",
        "centenas = ['ciento', 'doscientos', 'trescientos', 'cuatrocientos', 'quinientos', 'seiscientos', 'setecientos', 'ochocientos', 'novecientos']\n",
        "singulares = ['un millón', 'un billón', 'un trillón', 'un cuatrillón', 'un quintillón']\n",
        "plurales = ['millones', 'billones', 'trillones', 'cuatrillones', 'quintillones']\n",
        "\n",
        "\n",
        "def numero_a_texto(numero):\n",
        "    \"\"\"\n",
        "    Convierte un número a letras\n",
        "    \"\"\"\n",
        "    # los dígitos\n",
        "    if numero < 10:\n",
        "        return unidades[numero]\n",
        "    # los números entre 10 y 19\n",
        "    if numero < 20:\n",
        "        return decenas1[numero - 10]\n",
        "    # los números entre 20 y 29\n",
        "    if numero < 30:\n",
        "        if numero % 10 == 0:\n",
        "            return 'veinte'\n",
        "        else:\n",
        "            return 'veinti' + unidades[numero % 10]\n",
        "    # los números entre 30 y 99\n",
        "    if numero < 100:\n",
        "        if numero % 10 == 0:\n",
        "            return decenas2[numero // 10 - 2]\n",
        "        else:\n",
        "            return decenas2[numero // 10 - 2] + ' y ' + unidades[numero % 10]\n",
        "    # los números entre 100 y 999\n",
        "    if numero < 1000:\n",
        "        if numero == 100:\n",
        "            return 'cien'\n",
        "        if numero % 100 == 0:\n",
        "            return centenas[numero // 100 - 1]\n",
        "        else:\n",
        "            return centenas[numero // 100 - 1] + ' ' + numero_a_texto(numero % 100)\n",
        "    # los números entre 1000 y 999999\n",
        "    if numero < 1000000:\n",
        "        if numero == 1000:\n",
        "            return 'un mil'\n",
        "        if numero < 2000:\n",
        "            return 'un mil ' + numero_a_texto(numero % 1000)\n",
        "        if numero % 1000 == 0:\n",
        "            return numero_a_texto(numero // 1000) + ' mil'\n",
        "        else:\n",
        "            return numero_a_texto(numero // 1000) + ' mil ' + numero_a_texto(numero % 1000)\n",
        "    # los números mayores de 999999\n",
        "    for i in range(0, len(singulares)):\n",
        "        base = 1000000 ** (i + 1)\n",
        "        limite = base * 1000000\n",
        "        if numero < limite:\n",
        "            if numero == base:\n",
        "                return singulares[i]\n",
        "            if numero < 2 * base:\n",
        "                return singulares[i] + ' ' + numero_a_texto(numero % base)\n",
        "\n",
        "            if numero % base == 0:\n",
        "                return numero_a_texto(numero // base) + ' ' + plurales[i]\n",
        "            else:\n",
        "                return numero_a_texto(numero // base) + ' ' + plurales[i] + ' ' + numero_a_texto(numero % base)\n",
        "\n",
        "    return 'un número muuuuuuuy grande'\n",
        "\n",
        "numero_a_texto(234234234)\n"
      ]
    },
    {
      "cell_type": "markdown",
      "metadata": {
        "id": "IsdLQD_tzo5o"
      },
      "source": [
        "### 4.5.2. CURP\n",
        "\n",
        "Para generar la CURP (Clave Única de Registro de Población) debemos saber cómo es que está formada:\n",
        "\n",
        "```\n",
        "QUTR 75 05 08 H DF NLL XX\n",
        "                       __ > digitos únicos (2)\n",
        "                   ___    > segundas consonantes de 1er ap, 2o ap y nombre (3)\n",
        "                __        > entidad de nacimiento (2)\n",
        "              _           > sexo\n",
        "           __             > día de nacimiento (2)\n",
        "        __                > mes de nacimiento (2)\n",
        "     __                   > año de nacimiento (2)\n",
        "____                      > Iniciales 1er ap (1a letra y siguiente vocal), 2o ap y nombre\n",
        "    \n",
        "```"
      ]
    },
    {
      "cell_type": "markdown",
      "metadata": {
        "id": "hfy97B8wzo5o"
      },
      "source": [
        "#### Primer intento"
      ]
    },
    {
      "cell_type": "code",
      "execution_count": null,
      "metadata": {
        "colab": {
          "base_uri": "https://localhost:8080/"
        },
        "id": "Gr5wRJEMzo5o",
        "outputId": "0e68b68a-4b27-4123-8d06-74b55a480d32"
      },
      "outputs": [
        {
          "name": "stdout",
          "output_type": "stream",
          "text": [
            "Tu CURP es: ANRR800121HDFGOOXX\n"
          ]
        }
      ],
      "source": [
        "nombres = 'ROBERTO'\n",
        "primer_apellido = 'ANGELES'\n",
        "segundo_apellido = 'ROBLES'\n",
        "anio_nacimiento = '1980'\n",
        "mes_nacimiento = '01'\n",
        "dia_nacimiento = '21'\n",
        "sexo = 'H'\n",
        "entidad = 'DF'\n",
        "\n",
        "curp = primer_apellido[0:2] + segundo_apellido[0:1] + nombres[0:1] \\\n",
        "    + anio_nacimiento[2:4] + mes_nacimiento + dia_nacimiento \\\n",
        "    + sexo + entidad \\\n",
        "    + primer_apellido[2:3] + segundo_apellido[1:2] + nombres[1:2] + 'XX'\n",
        "\n",
        "print('Tu CURP es: ' + curp)\n"
      ]
    },
    {
      "cell_type": "markdown",
      "metadata": {
        "id": "WdmKCvL6zo5p"
      },
      "source": [
        "La CURP generada no es correcta. Se debe procesar de una mejor manera."
      ]
    },
    {
      "cell_type": "markdown",
      "metadata": {
        "id": "4zCwLOXyzo5p"
      },
      "source": [
        "#### Segundo intento\n",
        "\n",
        "> *Vini vi dividi e venci* - Julio César\n",
        "\n",
        "Hay que separar las operaciones que debemos de realizar. En la definición de la CURP es necesario determinar la primera vocal de una palabra:"
      ]
    },
    {
      "cell_type": "code",
      "execution_count": null,
      "metadata": {
        "id": "xWifX0mEzo5p"
      },
      "outputs": [],
      "source": [
        "def siguiente_vocal(palabra):\n",
        "    \"\"\"Busca la primera vocal de una palabra\"\"\"\n",
        "    for letra in palabra:\n",
        "        if letra in ['A', 'E', 'I', 'O', 'U']:\n",
        "            return letra\n",
        "    return 'X'"
      ]
    },
    {
      "cell_type": "markdown",
      "metadata": {
        "id": "mrGLz13fzo5p"
      },
      "source": [
        "Así como la primera consonante:"
      ]
    },
    {
      "cell_type": "code",
      "execution_count": null,
      "metadata": {
        "id": "qUaLM35dzo5p"
      },
      "outputs": [],
      "source": [
        "def siguiente_consonante(palabra):\n",
        "    \"\"\"Busca la primera consonante de una palabra\"\"\"\n",
        "    for letra in palabra:\n",
        "        if letra not in ['A', 'E', 'I', 'O', 'U']:\n",
        "            return letra\n",
        "    return 'X'"
      ]
    },
    {
      "cell_type": "markdown",
      "metadata": {
        "id": "Z43Qm5FUzo5p"
      },
      "source": [
        "Ahora, para calcular la primera parte de la CURP podemos utilizar las funciones que acabamos de crear.\n",
        "\n",
        "> **NOTA:** Debemos recordar que esta parte debe de ser validada para que no se generen palabras altisonantes, por ello debemos de tener una lista de esas palabras de cuatro caracteres que no debemos permitir. Si esta primera parte genera una de esas palabras se debe sustituir el último carácter por una X."
      ]
    },
    {
      "cell_type": "code",
      "execution_count": null,
      "metadata": {
        "id": "M92ldzS2zo5q"
      },
      "outputs": [],
      "source": [
        "def curp_parte_1(primer_apellido, segundo_apellido, nombres):\n",
        "    \"\"\"Calcula la primera parte de la CURP\"\"\"\n",
        "    curp = primer_apellido[0:1] + siguiente_vocal(primer_apellido[1:]) + segundo_apellido[0:1] + nombres[0:1]\n",
        "    return curp"
      ]
    },
    {
      "cell_type": "markdown",
      "metadata": {
        "id": "xwoYG-akzo5q"
      },
      "source": [
        "La segunda parte de la CURP es un poco más fácil, ya que tenemos el año en cuatro dígitos, así como el mes y el día en dos dígitos."
      ]
    },
    {
      "cell_type": "code",
      "execution_count": null,
      "metadata": {
        "id": "0Iy3Sltpzo5q"
      },
      "outputs": [],
      "source": [
        "def curp_parte_2(anio_nacimiento, mes_nacimiento, dia_nacimiento):\n",
        "    \"\"\"Calcula la segunda parte de la CURP\"\"\"\n",
        "    curp = anio_nacimiento[2:4] + mes_nacimiento + dia_nacimiento\n",
        "    return curp"
      ]
    },
    {
      "cell_type": "markdown",
      "metadata": {
        "id": "B7m95jV0zo5q"
      },
      "source": [
        "Las partes 3 y 4 están dadas directamente por la letra que define el sexo y por la clave de la entidad de nacimiento, respectivamente. Para calcular la quinta parte es necesario utilizar nuevamente las funciones auxiliares que definimos anteriormente."
      ]
    },
    {
      "cell_type": "code",
      "execution_count": null,
      "metadata": {
        "id": "Pu9L82fezo5q"
      },
      "outputs": [],
      "source": [
        "def curp_parte_5(primer_apellido, segundo_apellido, nombres):\n",
        "    \"\"\"Calcula la quinta parte de la CURP\"\"\"\n",
        "    curp = siguiente_consonante(primer_apellido[2:]) + \\\n",
        "        siguiente_consonante(segundo_apellido[1:]) + \\\n",
        "        siguiente_consonante(nombres[1:])\n",
        "    return curp"
      ]
    },
    {
      "cell_type": "markdown",
      "metadata": {
        "id": "DTc1H0q2zo5q"
      },
      "source": [
        "Ahora sí, estamos en condiciones de calcular una CURP correcta."
      ]
    },
    {
      "cell_type": "code",
      "execution_count": null,
      "metadata": {
        "id": "QEflcHvIzo5r"
      },
      "outputs": [],
      "source": [
        "def curp(nombres, primer_apellido, segundo_apellido, anio_nacimiento, \\\n",
        "    mes_nacimiento, dia_nacimiento, sexo, entidad):\n",
        "    \"\"\"Calcula la CURP\"\"\"\n",
        "    curp = curp_parte_1(primer_apellido, segundo_apellido, nombres) + \\\n",
        "        curp_parte_2(anio_nacimiento, mes_nacimiento, dia_nacimiento) + \\\n",
        "        sexo + entidad + \\\n",
        "        curp_parte_5(primer_apellido, segundo_apellido, nombres) + 'XX'\n",
        "    return curp"
      ]
    },
    {
      "cell_type": "code",
      "execution_count": null,
      "metadata": {
        "colab": {
          "base_uri": "https://localhost:8080/",
          "height": 35
        },
        "id": "G_bUHHWNzo5r",
        "outputId": "d3cf7367-8002-40b6-b868-701a05fcf61d"
      },
      "outputs": [
        {
          "data": {
            "application/vnd.google.colaboratory.intrinsic+json": {
              "type": "string"
            },
            "text/plain": [
              "'PEGJ800101HDFRRNXX'"
            ]
          },
          "execution_count": 90,
          "metadata": {},
          "output_type": "execute_result"
        }
      ],
      "source": [
        "curp('JUAN', 'PEREZ', 'GARCIA', '1980', '01', '01', 'H', 'DF')"
      ]
    },
    {
      "cell_type": "markdown",
      "metadata": {
        "id": "xaTMGrTYzo5r"
      },
      "source": [
        "Ahora bien, para hacerlo un poco más interactivo debemos de leer los datos que nos proporcione un usuario. Nuevamente separaremos en funciones cada parte que queremos leer. Normalmente esto va a ser necesario para poder validar los datos de entrada, es decir los datos que proporcione el usuario. Por ejemplo, necesitamos que la entidad de nacimiento se nos proporcione con dos letras, correspondientes a la clave de la entidad; sin embargo, no siempre se sabe cuál es la clave en cuestión, por eso es posible que sea necesario proporcionar al usuario la información para acceder a esa clase. Otro ejemplo es el de el año, debemos validar que sea un número entero, que sea de cuatro dígitos, y tal vez, que sea de este siglo o del anterior."
      ]
    },
    {
      "cell_type": "markdown",
      "metadata": {
        "id": "GqwJjHuezo5r"
      },
      "source": [
        "El primer dato para leer es el nombre, puede ser que tenga más de uno; En ese caso se toma el primer nombre, siempre y cuando este primer nombre no sea \"Maria\" o \"José\"."
      ]
    },
    {
      "cell_type": "code",
      "execution_count": null,
      "metadata": {
        "id": "gIa10w2kzo5r"
      },
      "outputs": [],
      "source": [
        "def leer_nombres():\n",
        "    \"\"\"Lee los nombres\"\"\"\n",
        "    print('¿Cuáles son tus nombres? (Mayúsculas y sin acentos)')\n",
        "    nombres = input('>>>').upper()\n",
        "    return nombres"
      ]
    },
    {
      "cell_type": "markdown",
      "metadata": {
        "id": "hcIDmdx1zo5r"
      },
      "source": [
        "Leer los apellidos no representa ningún problema, solamente los convertimos a mayúsculas."
      ]
    },
    {
      "cell_type": "code",
      "execution_count": null,
      "metadata": {
        "id": "G5hUDTzmzo5s"
      },
      "outputs": [],
      "source": [
        "def leer_apellidos():\n",
        "    \"\"\"Lee los apellidos\"\"\"\n",
        "    print('¿Cuáles son tus apellidos? (Mayúsculas y sin acentos)')\n",
        "    primer_apellido = input('Primer apellido: ').upper()\n",
        "    segundo_apellido = input('Segundo apellido: ').upper()\n",
        "    return primer_apellido, segundo_apellido"
      ]
    },
    {
      "cell_type": "markdown",
      "metadata": {
        "id": "IUH1Y__gzo5s"
      },
      "source": [
        "Cómo se mencionó arriba, es necesario validar que el año de nacimiento sea correcto."
      ]
    },
    {
      "cell_type": "code",
      "execution_count": null,
      "metadata": {
        "id": "a-55gDuJzo5s"
      },
      "outputs": [],
      "source": [
        "def leer_anio_nacimiento():\n",
        "    \"\"\"Lee el año de nacimiento\"\"\"\n",
        "    print('¿En qué año naciste? (4 dígitos)')\n",
        "    anio_nacimiento = input('>>>')\n",
        "    while not anio_nacimiento.isnumeric() or len(anio_nacimiento) != 4:\n",
        "        anio_nacimiento = input('>>>')\n",
        "    return anio_nacimiento"
      ]
    },
    {
      "cell_type": "markdown",
      "metadata": {
        "id": "EBKlunCzzo5s"
      },
      "source": [
        "En el caso de los meses, tal vez no quisiéramos pedirle el mes de nacimiento como dos caracteres si no dar al usuario y la opción de elegir su mes de nacimiento a través de un menú."
      ]
    },
    {
      "cell_type": "code",
      "execution_count": null,
      "metadata": {
        "id": "o7WFnj7Lzo5s"
      },
      "outputs": [],
      "source": [
        "def leer_mes_nacimiento():\n",
        "    \"\"\"Lee el mes de nacimiento\"\"\"\n",
        "    print('¿En qué mes naciste? (2 dígitos)')\n",
        "    mes_nacimiento = input('>>>')\n",
        "    while not mes_nacimiento.isnumeric() or len(mes_nacimiento) != 2:\n",
        "        mes_nacimiento = input('>>>')\n",
        "    return mes_nacimiento"
      ]
    },
    {
      "cell_type": "markdown",
      "metadata": {
        "id": "AM9NZRm3zo5s"
      },
      "source": [
        "En el caso del día, debemos validar que sea un número entero positivo, mayor que cero y menor que 32 en unos casos, menor que 31 en otros casos y menor que 30 o 29 en el caso del mes de febrero."
      ]
    },
    {
      "cell_type": "code",
      "execution_count": null,
      "metadata": {
        "id": "mrsEwKTZzo5t"
      },
      "outputs": [],
      "source": [
        "def leer_dia_nacimiento():\n",
        "    \"\"\"Lee el día de nacimiento\"\"\"\n",
        "    print('¿En qué día naciste? (2 dígitos)')\n",
        "    dia_nacimiento = input('>>>')\n",
        "    while not dia_nacimiento.isnumeric() or len(dia_nacimiento) != 2:\n",
        "        dia_nacimiento = input('>>>')\n",
        "    return dia_nacimiento"
      ]
    },
    {
      "cell_type": "markdown",
      "metadata": {
        "id": "qUx--s_Dzo5t"
      },
      "source": [
        "Leer exceso no representa ningún problema, aunque es posible no proporcionar un valor por cuestiones de diversidad. En tal caso, hay que regresar una \"X\"."
      ]
    },
    {
      "cell_type": "code",
      "execution_count": null,
      "metadata": {
        "id": "8mrVN3B4zo5t"
      },
      "outputs": [],
      "source": [
        "def leer_sexo():\n",
        "    \"\"\"Lee el sexo\"\"\"\n",
        "    print('¿Cuál es tu sexo? (H/M)')\n",
        "    sexo = input('>>>').upper()\n",
        "    while sexo not in ['H', 'M']:\n",
        "        sexo = input('>>>').upper()\n",
        "    return sexo"
      ]
    },
    {
      "cell_type": "markdown",
      "metadata": {
        "id": "CRlhgC59zo5t"
      },
      "source": [
        "Cómo se mencionó previamente, para obtener la entidad federativa se puede hacer a través de un menú."
      ]
    },
    {
      "cell_type": "code",
      "execution_count": null,
      "metadata": {
        "id": "WvCqBbNszo5t"
      },
      "outputs": [],
      "source": [
        "entidades = {'AG':'Aguascalientes',\n",
        "             'BC':'Baja California',\n",
        "             'BS':'Baja California Sur',\n",
        "             'CC':'Campeche',\n",
        "             'CL':'Coahuila',\n",
        "             'CM':'Colima',\n",
        "             'CS':'Chiapas',\n",
        "             'CH':'Chihuahua',\n",
        "             'DF':'Ciudad de México',\n",
        "             'DG':'Durango',\n",
        "             'GT':'Guanajuato',\n",
        "             'GR':'Guerrero',\n",
        "             'HG':'Hidalgo',\n",
        "             'JC':'Jalisco',\n",
        "             'MC':'México',\n",
        "             'MN':'Michoacán',\n",
        "             'MS':'Morelos',\n",
        "             'NT':'Nayarit',\n",
        "             'NL':'Nuevo León',\n",
        "             'OC':'Oaxaca',\n",
        "             'PL':'Puebla',\n",
        "             'QT':'Querétaro',\n",
        "             'QR':'Quintana Roo',\n",
        "             'SP':'San Luis Potosí',\n",
        "             'SL':'Sinaloa',\n",
        "             'SR':'Sonora',\n",
        "             'TC':'Tabasco',\n",
        "             'TS':'Tamaulipas',\n",
        "             'TL':'Tlaxcala',\n",
        "             'VZ':'Veracruz',\n",
        "             'YN':'Yucatán',\n",
        "             'ZS':'Zacatecas'}\n",
        "\n",
        "def leer_entidad():\n",
        "    \"\"\"Lee la entidad federativa de nacimiento\"\"\"\n",
        "    print('¿En que entidad federativa naciste?\\n(2 letras mayúsculas, \\\n",
        "    por ejemplo: DF; ? para ver la lista de entidades)')\n",
        "    entidad = input('>>>').upper()\n",
        "    while entidad not in entidades:\n",
        "        if entidad == '?':\n",
        "            for clave, valor in entidades.items():\n",
        "                print(clave, ':', valor)\n",
        "            print('')\n",
        "\n",
        "        entidad = input('>>>').upper()\n",
        "    return entidad"
      ]
    },
    {
      "cell_type": "markdown",
      "metadata": {
        "id": "vLtzZLqAzo5t"
      },
      "source": [
        "Finalmente, unificamos todos los llamados en una función que lee todos los datos necesarios para el cálculo de la CURP."
      ]
    },
    {
      "cell_type": "code",
      "execution_count": null,
      "metadata": {
        "id": "4BMRg7OAzo5u"
      },
      "outputs": [],
      "source": [
        "def leer_datos():\n",
        "    \"\"\"Lee los datos del usuario\"\"\"\n",
        "    nombres = leer_nombres()\n",
        "    primer_apellido, segundo_apellido = leer_apellidos()\n",
        "    anio_nacimiento = leer_anio_nacimiento()\n",
        "    mes_nacimiento = leer_mes_nacimiento()\n",
        "    dia_nacimiento = leer_dia_nacimiento()\n",
        "    sexo = leer_sexo()\n",
        "    entidad = leer_entidad()\n",
        "    return nombres, primer_apellido, segundo_apellido, anio_nacimiento, \\\n",
        "        mes_nacimiento, dia_nacimiento, sexo, entidad"
      ]
    },
    {
      "cell_type": "markdown",
      "metadata": {
        "id": "KxYrbT2ozo5u"
      },
      "source": [
        "Recordemos, como se vio hace tiempo, qué se puede manejar el valor del retorno de una función como una tupla, es decir como una colección de valores. También vimos que las funciones pueden recibir precisamente una tupla, de esta forma realizamos el llamado para el cálculo de la CURP:"
      ]
    },
    {
      "cell_type": "code",
      "execution_count": null,
      "metadata": {
        "colab": {
          "base_uri": "https://localhost:8080/",
          "height": 920
        },
        "id": "KACNVVaxzo5u",
        "outputId": "eec4cba4-1905-4b44-9c89-f67bf18a7970"
      },
      "outputs": [
        {
          "name": "stdout",
          "output_type": "stream",
          "text": [
            "¿Cuáles son tus nombres? (Mayúsculas y sin acentos)\n",
            ">>>rolando\n",
            "¿Cuáles son tus apellidos? (Mayúsculas y sin acentos)\n",
            "Primer apellido: quintero\n",
            "Segundo apellido: tellez\n",
            "¿En qué año naciste? (4 dígitos)\n",
            ">>>19\n",
            ">>>1975\n",
            "¿En qué mes naciste? (2 dígitos)\n",
            ">>>05\n",
            "¿En qué día naciste? (2 dígitos)\n",
            ">>>08\n",
            "¿Cuál es tu sexo? (H/M)\n",
            ">>>H\n",
            "¿En que entidad federativa naciste?\n",
            "(2 letras mayúsculas,     por ejemplo: DF; ? para ver la lista de entidades)\n",
            ">>>?\n",
            "AG : Aguascalientes\n",
            "BC : Baja California\n",
            "BS : Baja California Sur\n",
            "CC : Campeche\n",
            "CL : Coahuila\n",
            "CM : Colima\n",
            "CS : Chiapas\n",
            "CH : Chihuahua\n",
            "DF : Ciudad de México\n",
            "DG : Durango\n",
            "GT : Guanajuato\n",
            "GR : Guerrero\n",
            "HG : Hidalgo\n",
            "JC : Jalisco\n",
            "MC : México\n",
            "MN : Michoacán\n",
            "MS : Morelos\n",
            "NT : Nayarit\n",
            "NL : Nuevo León\n",
            "OC : Oaxaca\n",
            "PL : Puebla\n",
            "QT : Querétaro\n",
            "QR : Quintana Roo\n",
            "SP : San Luis Potosí\n",
            "SL : Sinaloa\n",
            "SR : Sonora\n",
            "TC : Tabasco\n",
            "TS : Tamaulipas\n",
            "TL : Tlaxcala\n",
            "VZ : Veracruz\n",
            "YN : Yucatán\n",
            "ZS : Zacatecas\n",
            "\n",
            ">>>DF\n"
          ]
        },
        {
          "data": {
            "application/vnd.google.colaboratory.intrinsic+json": {
              "type": "string"
            },
            "text/plain": [
              "'QUTR750508HDFNLLXX'"
            ]
          },
          "execution_count": 100,
          "metadata": {},
          "output_type": "execute_result"
        }
      ],
      "source": [
        "curp(*leer_datos())"
      ]
    },
    {
      "cell_type": "markdown",
      "metadata": {
        "id": "QN-ugLiozo5u"
      },
      "source": [
        "#### Tarea\n",
        "> Cómo tarea hay que hacer las adecuaciones que se mencionan en el texto para la validación de las entradas."
      ]
    },
    {
      "cell_type": "code",
      "execution_count": null,
      "metadata": {
        "id": "SsdJis4LP7wS"
      },
      "outputs": [],
      "source": []
    }
  ],
  "metadata": {
    "colab": {
      "provenance": []
    },
    "kernelspec": {
      "display_name": "prope_A23",
      "language": "python",
      "name": "python3"
    },
    "language_info": {
      "codemirror_mode": {
        "name": "ipython",
        "version": 3
      },
      "file_extension": ".py",
      "mimetype": "text/x-python",
      "name": "python",
      "nbconvert_exporter": "python",
      "pygments_lexer": "ipython3",
      "version": "3.11.4"
    },
    "orig_nbformat": 4,
    "vscode": {
      "interpreter": {
        "hash": "f559b8db22154d15fb449f8ada7d6e12718c07c6a93564053d371e9996811de5"
      }
    }
  },
  "nbformat": 4,
  "nbformat_minor": 0
}
