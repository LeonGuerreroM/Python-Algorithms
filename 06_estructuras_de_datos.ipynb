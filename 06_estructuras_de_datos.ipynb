{
  "cells": [
    {
      "cell_type": "markdown",
      "metadata": {
        "id": "vcmwG3ACc7il"
      },
      "source": [
        "# 6. Estructuras de datos\n",
        "Este capítulo describe algunas cosas que ya ha aprendido con más detalle y también agrega algunas cosas nuevas."
      ]
    },
    {
      "cell_type": "markdown",
      "metadata": {
        "id": "0J4ZnW61dBUZ"
      },
      "source": [
        "## 6.1. Más sobre Listas\n",
        "El tipo de datos de lista tiene algunos métodos más. Aquí están todos los métodos de objetos de lista:\n",
        "\n",
        "`lista.append(x)`\n",
        "> Agrega un elemento al final de la lista. Equivalente a `a[len(a):] = [x]`\n",
        "\n",
        "`lista.extend(iterable)`\n",
        "> Amplía la lista agregando todos los elementos del iterable. equivalente a `lista[len(lista):] = iterable`\n",
        "\n",
        "`lista.insert(i, x)`\n",
        "> Insertar un elemento en una posición determinada. El primer argumento es el índice del elemento antes del cual insertar, por lo que se inserta al principio de la lista y es equivalente a `lista.insert(0, x)`, y `lista.insert(len(a), x)` es equivalente `lista.append(x)`\n",
        "\n",
        "`lista.remove(x)`\n",
        "> Elimina el primer elemento de la lista cuyo valor es igual a `x`. Se genera un `ValueError` si no existe tal elemento.\n",
        "\n",
        "`lista.pop([i])`\n",
        "> Elimina el artículo en la posición dada en la lista y lo devuelve. Si no se especifica ningún índice, `lista.pop()` elimina y devuelve el último elemento de la lista. (Los corchetes alrededor de la i en la firma del método indican que el parámetro es opcional, no que deba escribir corchetes en esa posición. Verá esta notación con frecuencia en la Referencia de la biblioteca de Python).\n",
        "\n",
        "`lista.clear()`\n",
        "> Eliminar todos los elementos de la lista. equivalente a `del a[:]`\n",
        "\n",
        "`lista.index(x[, inicio[, fin]])`\n",
        "> Devuelve el índice, base-0, en la lista del primer elemento cuyo valor es igual a x. Genera un `ValueError` si no existe tal elemento.\n",
        "\n",
        "> Los argumentos opcionales start y end se interpretan como en la notación de segmento y se utilizan para limitar la búsqueda a una subsecuencia particular de la lista. El índice devuelto se calcula en relación con el comienzo de la secuencia completa en lugar del argumento de inicio .\n",
        "\n",
        "`lista.count(x)`\n",
        "Devuelve el número de veces que x aparece en la lista.\n",
        "\n",
        "`lista.sort( *, clave = Ninguno ,inverso = Falso)`\n",
        "> Ordena los elementos de la lista.\n",
        "\n",
        "`lista.reverse()`\n",
        "> Invierte de posición los elementos de la lista.\n",
        "\n",
        "`lista.copy()`\n",
        "> Devuelve una copia superficial de la lista. Equivalente a `lista[:].`\n",
        "\n",
        "Un ejemplo que utiliza la mayoría de los métodos de lista:"
      ]
    },
    {
      "cell_type": "code",
      "execution_count": null,
      "metadata": {
        "id": "fyhPozMec4aJ"
      },
      "outputs": [],
      "source": [
        "fruits = ['orange', 'apple', 'pear', 'banana', 'kiwi', 'apple', 'banana']\n",
        "fruits.count('apple')"
      ]
    },
    {
      "cell_type": "code",
      "execution_count": null,
      "metadata": {
        "id": "Do4bsr7yg2WZ"
      },
      "outputs": [],
      "source": [
        "fruits.count('tangerine')"
      ]
    },
    {
      "cell_type": "code",
      "execution_count": null,
      "metadata": {
        "id": "V1bQ4zTxg4Ms"
      },
      "outputs": [],
      "source": [
        "fruits.index('banana')"
      ]
    },
    {
      "cell_type": "code",
      "execution_count": null,
      "metadata": {
        "id": "dYlqXZE8g7DV"
      },
      "outputs": [],
      "source": [
        "fruits.index('banana', 4)  # Find next banana starting at position 4"
      ]
    },
    {
      "cell_type": "code",
      "execution_count": null,
      "metadata": {
        "id": "LrvepaVYg9W-"
      },
      "outputs": [],
      "source": [
        "fruits.reverse()\n",
        "fruits"
      ]
    },
    {
      "cell_type": "code",
      "execution_count": null,
      "metadata": {
        "id": "jXl5KnhFg_vC"
      },
      "outputs": [],
      "source": [
        "fruits.append('grape')\n",
        "fruits"
      ]
    },
    {
      "cell_type": "code",
      "execution_count": null,
      "metadata": {
        "id": "XIhAtrFAhDZt"
      },
      "outputs": [],
      "source": [
        "fruits.sort()\n",
        "fruits"
      ]
    },
    {
      "cell_type": "code",
      "execution_count": null,
      "metadata": {
        "id": "lh8yD4GkhF8H"
      },
      "outputs": [],
      "source": [
        "fruits.pop()"
      ]
    },
    {
      "cell_type": "code",
      "execution_count": null,
      "metadata": {
        "id": "uHJlyj_9hIY6"
      },
      "outputs": [],
      "source": [
        "fruits"
      ]
    },
    {
      "cell_type": "markdown",
      "metadata": {
        "id": "QbM1Kg7UhS1a"
      },
      "source": [
        "Es posible que haya notado que los métodos como `insert`, `remove` o `sort` que solo modifican la lista no tienen un valor de retorno impreso; devuelven el valor predeterminado None. Este es un principio de diseño para todas las estructuras de datos mutables en Python.\n",
        "\n",
        "Otra cosa que puede notar es que no todos los datos se pueden ordenar o comparar. Por ejemplo, `[None. 'hello', 10]` no se puede ordenar porque los números enteros no se pueden comparar con cadenas y `None` no se puede comparar con otros tipos. Además, hay algunos tipos que no tienen una relación de orden definida. Por ejemplo, `3+4j < 5+7j` no es una comparación válida"
      ]
    },
    {
      "cell_type": "markdown",
      "metadata": {
        "id": "rFIghmQUiFEW"
      },
      "source": [
        "### 6.1.1. Usando Listas como Pilas\n",
        "\n",
        "Los métodos de lista facilitan mucho el uso de una lista como una pila, donde el último elemento agregado es el primer elemento recuperado (LIFO - *Last In, First Out*, \"el último en entrar, primero en salir\"). Para agregar un elemento a la parte superior de la pila, use `append()`. Para recuperar un elemento de la parte superior de la pila, utilícelo `pop()` sin un índice explícito. Por ejemplo:"
      ]
    },
    {
      "cell_type": "code",
      "execution_count": null,
      "metadata": {
        "id": "G9MBRworhLEI"
      },
      "outputs": [],
      "source": [
        "stack = [3, 4, 5]\n",
        "stack.append(6)\n",
        "stack.append(7)\n",
        "stack"
      ]
    },
    {
      "cell_type": "code",
      "execution_count": null,
      "metadata": {
        "id": "286mdG60ilBf"
      },
      "outputs": [],
      "source": [
        "stack.pop()"
      ]
    },
    {
      "cell_type": "code",
      "execution_count": null,
      "metadata": {
        "id": "R8DcZ3GOiowj"
      },
      "outputs": [],
      "source": [
        "stack"
      ]
    },
    {
      "cell_type": "code",
      "execution_count": null,
      "metadata": {
        "id": "kA9fz3tdipjX"
      },
      "outputs": [],
      "source": [
        "stack.pop()\n",
        "stack.pop()\n",
        "stack"
      ]
    },
    {
      "cell_type": "markdown",
      "metadata": {
        "id": "2Pg6DrJ2i3jc"
      },
      "source": [
        "### 6.1.2. Usando Listas como Colas\n",
        "\n",
        "También es posible utilizar una lista como una cola, donde el primer elemento agregado es el primer elemento recuperado (FIFO - *First In, First Out* \"primero en entrar, primero en salir\"); sin embargo, las listas no son eficientes para este propósito. Si bien las anexiones y los elementos emergentes desde el final de la lista son rápidos, hacer inserciones o elementos emergentes desde el principio de una lista es lento (porque todos los demás elementos tienen que ser desplazados por uno).\n",
        "\n",
        "Para implementar una cola, use `collections.deque` que fue diseñada para tener agregados y mensajes emergentes rápidos desde ambos extremos. Por ejemplo:"
      ]
    },
    {
      "cell_type": "code",
      "execution_count": null,
      "metadata": {
        "id": "cBUZqMu8ivtG"
      },
      "outputs": [],
      "source": [
        "from collections import deque\n",
        "queue = deque([\"Eric\", \"John\", \"Michael\"])\n",
        "queue.append(\"Terry\")           # Terry arrives\n",
        "queue.append(\"Graham\")          # Graham arrives\n",
        "queue.popleft()                 # The first to arrive now leaves"
      ]
    },
    {
      "cell_type": "code",
      "execution_count": null,
      "metadata": {
        "id": "kWXaE3FljfDE"
      },
      "outputs": [],
      "source": [
        "queue.popleft()                 # The second to arrive now leaves"
      ]
    },
    {
      "cell_type": "code",
      "execution_count": null,
      "metadata": {
        "id": "4SZDtU14jjtL"
      },
      "outputs": [],
      "source": [
        "queue"
      ]
    },
    {
      "cell_type": "markdown",
      "metadata": {
        "id": "wI_Y67NVkLFW"
      },
      "source": [
        "### 6.1.3. Comprensiones de lista\n",
        "Las listas de comprensión proporcionan una forma concisa de crear listas. Las aplicaciones comunes son hacer nuevas listas donde cada elemento es el resultado de algunas operaciones aplicadas a cada miembro de otra secuencia o iterable, o crear una subsecuencia de esos elementos que satisfacen una determinada condición.\n",
        "\n",
        "Por ejemplo, supongamos que queremos crear una lista de cuadrados, como:"
      ]
    },
    {
      "cell_type": "code",
      "execution_count": null,
      "metadata": {
        "id": "dA0gO1xljlyx"
      },
      "outputs": [],
      "source": [
        "squares = []\n",
        "for x in range(10):\n",
        "    squares.append(x**2)\n",
        "\n",
        "squares"
      ]
    },
    {
      "cell_type": "markdown",
      "metadata": {
        "id": "DP8LSXoXkdpS"
      },
      "source": [
        "Tenga en cuenta que esto crea (o sobrescribe) una variable nombrada `x` que aún existe después de que se completa el ciclo. Podemos calcular la lista de cuadrados sin ningún efecto secundario usando:"
      ]
    },
    {
      "cell_type": "code",
      "execution_count": null,
      "metadata": {
        "id": "H1HhpnWTkk_e"
      },
      "outputs": [],
      "source": [
        "squares = [x**2 for x in range(15)]\n",
        "squares"
      ]
    },
    {
      "cell_type": "markdown",
      "metadata": {
        "id": "bHMya44Ok_g_"
      },
      "source": [
        "Una lista por comprensión consta de corchetes que contienen una expresión seguida de una cláusula `for`, luego cero o más cláusulas `for` o `if`. El resultado será una nueva lista resultante de evaluar la expresión en el contexto de las cláusulas `for` e `if` que la siguen. Por ejemplo, este `listcomp` combina los elementos de dos listas si no son iguales:"
      ]
    },
    {
      "cell_type": "code",
      "execution_count": null,
      "metadata": {
        "id": "1PwbJN7vkwnw"
      },
      "outputs": [],
      "source": [
        "[(x, y) for x in [1,2,3] for y in [3,1,4] if x != y]"
      ]
    },
    {
      "cell_type": "markdown",
      "metadata": {
        "id": "sotm75ZxlgAF"
      },
      "source": [
        "que es equivalente a:"
      ]
    },
    {
      "cell_type": "code",
      "execution_count": null,
      "metadata": {
        "id": "JAiu-uSwlZ2w"
      },
      "outputs": [],
      "source": [
        "combs = []\n",
        "for x in [1,2,3]:\n",
        "    for y in [3,1,4]:\n",
        "        if x != y:\n",
        "            combs.append((x, y))\n",
        "\n",
        "combs"
      ]
    },
    {
      "cell_type": "markdown",
      "metadata": {
        "id": "dtwsvZbOl3A8"
      },
      "source": [
        "Observe cómo el orden de las declaraciones `for` e `if` es el mismo en ambos fragmentos.\n",
        "\n",
        "Si la expresión es una tupla (por ejemplo, la del ejemplo anterior), debe estar entre paréntesis.`(x, y)`"
      ]
    },
    {
      "cell_type": "code",
      "execution_count": null,
      "metadata": {
        "id": "ClR-lp2Nljw-"
      },
      "outputs": [],
      "source": [
        "vec = [-4, -2, 0, 2, 4]\n",
        "# create a new list with the values doubled\n",
        "[x*2 for x in vec]"
      ]
    },
    {
      "cell_type": "code",
      "execution_count": null,
      "metadata": {
        "id": "CUAqp74qmCGT"
      },
      "outputs": [],
      "source": [
        "# filter the list to exclude negative numbers\n",
        "[x for x in vec if x >= 0]"
      ]
    },
    {
      "cell_type": "code",
      "execution_count": null,
      "metadata": {
        "id": "3H9VE6Q0mFkU"
      },
      "outputs": [],
      "source": [
        "# apply a function to all the elements\n",
        "[abs(x) for x in vec]"
      ]
    },
    {
      "cell_type": "code",
      "execution_count": null,
      "metadata": {
        "id": "Yi0eE9V8mKSI"
      },
      "outputs": [],
      "source": [
        "# call a method on each element\n",
        "freshfruit = ['  banana', '  loganberry ', 'passion fruit  ']\n",
        "[weapon.strip() for weapon in freshfruit]"
      ]
    },
    {
      "cell_type": "code",
      "execution_count": null,
      "metadata": {
        "id": "a5O_YMTHmMTV"
      },
      "outputs": [],
      "source": [
        "# create a list of 2-tuples like (number, square)\n",
        "[(x, x**2) for x in range(6)]"
      ]
    },
    {
      "cell_type": "code",
      "execution_count": null,
      "metadata": {
        "id": "pho4OnUNmUfK"
      },
      "outputs": [],
      "source": [
        "# the tuple must be parenthesized, otherwise an error is raised\n",
        "[x, x**2 for x in range(6)]"
      ]
    },
    {
      "cell_type": "code",
      "execution_count": null,
      "metadata": {
        "id": "qjnSLMVfmdJD"
      },
      "outputs": [],
      "source": [
        "# flatten a list using a listcomp with two 'for'\n",
        "vec = [[1,2,3], [4,5,6], [7,8,9]]\n",
        "[num for elem in vec for num in elem]"
      ]
    },
    {
      "cell_type": "markdown",
      "metadata": {
        "id": "b3nGxW1xnlSP"
      },
      "source": [
        "Las listas por comprensión pueden contener expresiones complejas y funciones anidadas:\n",
        "\n"
      ]
    },
    {
      "cell_type": "code",
      "execution_count": null,
      "metadata": {
        "id": "osuJJP1cmhrQ"
      },
      "outputs": [],
      "source": [
        "from math import pi\n",
        "[str(round(pi, i)) for i in range(1, 6)]"
      ]
    },
    {
      "cell_type": "markdown",
      "metadata": {
        "id": "dgSWL0YrnzQh"
      },
      "source": [
        "### 6.1.4. Comprensiones de listas anidadas\n",
        "\n",
        "La expresión inicial en una lista por comprensión puede ser cualquier expresión arbitraria, incluida otra lista por comprensión.\n",
        "\n",
        "Considere el siguiente ejemplo de una matriz de 3x4 implementada como una lista de 3 listas de longitud 4:"
      ]
    },
    {
      "cell_type": "code",
      "execution_count": null,
      "metadata": {
        "id": "QoJzLq8vnoO9"
      },
      "outputs": [],
      "source": [
        "matrix = [\n",
        "    [1, 2, 3, 4],\n",
        "    [5, 6, 7, 8],\n",
        "    [9, 10, 11, 12],\n",
        "]"
      ]
    },
    {
      "cell_type": "markdown",
      "metadata": {
        "id": "YNXUW46Hp65A"
      },
      "source": [
        "La siguiente lista de comprensión transpondrá filas y columnas:"
      ]
    },
    {
      "cell_type": "code",
      "execution_count": null,
      "metadata": {
        "id": "GQ4T4dRKp4Q1"
      },
      "outputs": [],
      "source": [
        "[[row[i] for row in matrix] for i in range(4)]"
      ]
    },
    {
      "cell_type": "markdown",
      "metadata": {
        "id": "MOOFFgzrqRJJ"
      },
      "source": [
        "Como vimos en el apartado anterior, la comprensión de la lista interna se evalúa en el contexto del `for` que le sigue, por lo que este ejemplo equivale a:"
      ]
    },
    {
      "cell_type": "code",
      "execution_count": null,
      "metadata": {
        "id": "dfKk1lEvqAEY"
      },
      "outputs": [],
      "source": [
        "transposed = []\n",
        "for i in range(4):\n",
        "    transposed.append([row[i] for row in matrix])\n",
        "\n",
        "transposed"
      ]
    },
    {
      "cell_type": "markdown",
      "metadata": {
        "id": "vDtAWAPlqjC6"
      },
      "source": [
        "que, a su vez, es lo mismo que:"
      ]
    },
    {
      "cell_type": "code",
      "execution_count": null,
      "metadata": {
        "id": "TgIjsJ0IqeXG"
      },
      "outputs": [],
      "source": [
        "transposed = []\n",
        "for i in range(4):\n",
        "    # the following 3 lines implement the nested listcomp\n",
        "    transposed_row = []\n",
        "    for row in matrix:\n",
        "        transposed_row.append(row[i])\n",
        "    transposed.append(transposed_row)\n",
        "\n",
        "transposed"
      ]
    },
    {
      "cell_type": "markdown",
      "metadata": {
        "id": "MFFyUwsOqzTZ"
      },
      "source": [
        "## 6.2. La declaración `del`\n",
        "\n",
        "Hay una forma de eliminar un elemento de una lista dado su índice en lugar de su valor: la declaración `del`. Esto difiere del método `pop()` que devuelve un valor. La declaración `del` también se puede usar para eliminar sectores de una lista o borrar toda la lista (lo que hicimos anteriormente mediante la asignación de una lista vacía al sector). Por ejemplo:"
      ]
    },
    {
      "cell_type": "code",
      "execution_count": null,
      "metadata": {
        "id": "Os0UhHkuqmhB"
      },
      "outputs": [],
      "source": [
        "a = [-1, 1, 66.25, 333, 333, 1234.5]\n",
        "del a[0]\n",
        "a"
      ]
    },
    {
      "cell_type": "code",
      "execution_count": null,
      "metadata": {
        "id": "HrIAeq3hrFSW"
      },
      "outputs": [],
      "source": [
        "del a[2:4]\n",
        "a"
      ]
    },
    {
      "cell_type": "code",
      "execution_count": null,
      "metadata": {
        "id": "E2S6tI-HrHH8"
      },
      "outputs": [],
      "source": [
        "del a[:]\n",
        "a"
      ]
    },
    {
      "cell_type": "markdown",
      "metadata": {
        "id": "NH0z8iJ2rQUL"
      },
      "source": [
        "## 6.3. Tuplas y Secuencias\n",
        "\n",
        "Vimos que las listas y las cadenas tienen muchas propiedades comunes, como las operaciones de indexación y división. Son dos ejemplos de tipos de datos de secuencia. Dado que Python es un lenguaje en evolución, se pueden agregar otros tipos de datos de secuencia. También hay otro tipo de datos de secuencia estándar: la tupla.\n",
        "\n",
        "Una tupla consta de una serie de valores separados por comas, por ejemplo:"
      ]
    },
    {
      "cell_type": "code",
      "execution_count": null,
      "metadata": {
        "id": "9VSohghorJzg"
      },
      "outputs": [],
      "source": [
        "t = 12345, 54321, 'hello!'\n",
        "t[0]"
      ]
    },
    {
      "cell_type": "code",
      "execution_count": null,
      "metadata": {
        "id": "QiPAyQQtri2S"
      },
      "outputs": [],
      "source": [
        "t"
      ]
    },
    {
      "cell_type": "code",
      "execution_count": null,
      "metadata": {
        "id": "Y8dawPBKrkf7"
      },
      "outputs": [],
      "source": [
        "# Tuples may be nested:\n",
        "u = t, (1, 2, 3, 4, 5)\n",
        "u"
      ]
    },
    {
      "cell_type": "code",
      "execution_count": null,
      "metadata": {
        "id": "jbRzDv4Jrnqy"
      },
      "outputs": [],
      "source": [
        "# Tuples are immutable:\n",
        "t[0] = 88888"
      ]
    },
    {
      "cell_type": "code",
      "execution_count": null,
      "metadata": {
        "id": "WaAJCThHrq53"
      },
      "outputs": [],
      "source": [
        "# but they can contain mutable objects:\n",
        "v = ([1, 2, 3], [3, 2, 1])\n",
        "v"
      ]
    },
    {
      "cell_type": "markdown",
      "metadata": {
        "id": "UmLwVxmhr3LL"
      },
      "source": [
        "Como puede ver, en la salida, las tuplas siempre se encierran entre paréntesis, para que las tuplas anidadas se interpreten correctamente; se pueden ingresar con o sin paréntesis, aunque a menudo los paréntesis son necesarios de todos modos (si la tupla es parte de una expresión más grande). No es posible asignar a los elementos individuales de una tupla, sin embargo, es posible crear tuplas que contengan objetos mutables, como listas.\n",
        "\n",
        "Aunque las tuplas pueden parecer similares a las listas, a menudo se usan en diferentes situaciones y para diferentes propósitos. Las tuplas son *inmutables* y, por lo general, contienen una secuencia heterogénea de elementos a los que se accede mediante desempaquetado o indexación. Las listas son *mutables* y sus elementos suelen ser homogéneos y se accede a ellos iterando sobre la lista.\n",
        "\n",
        "Un problema especial es la construcción de tuplas que contienen 0 o 1 elementos: la sintaxis tiene algunas peculiaridades adicionales para acomodarlos. Las tuplas vacías se construyen con un par de paréntesis vacíos; una tupla con un elemento se construye siguiendo un valor con una coma (no es suficiente encerrar un solo valor entre paréntesis). Feo, pero efectivo. Por ejemplo:"
      ]
    },
    {
      "cell_type": "code",
      "execution_count": null,
      "metadata": {
        "id": "uxUkvtNZrtts"
      },
      "outputs": [],
      "source": [
        "empty = ()\n",
        "singleton = 'hello',    # <-- note trailing comma\n",
        "len(empty)"
      ]
    },
    {
      "cell_type": "code",
      "execution_count": null,
      "metadata": {
        "id": "oB5cBfBBsV2D"
      },
      "outputs": [],
      "source": [
        "len(singleton)"
      ]
    },
    {
      "cell_type": "code",
      "execution_count": null,
      "metadata": {
        "id": "AvwR8bRosXu_"
      },
      "outputs": [],
      "source": [
        "singleton"
      ]
    },
    {
      "cell_type": "markdown",
      "metadata": {
        "id": "DFf8o2ZEsoSt"
      },
      "source": [
        "la instrucción `t = 12345, 54321, 'hello!'` es un ejemplo de empaquetamiento de tuplas: los valores `12345`, `54321` y `'hello!'` son empaquetados juntos en una tupla. La operación inversa también es posible:"
      ]
    },
    {
      "cell_type": "code",
      "execution_count": null,
      "metadata": {
        "id": "XXPLPK2AsZgL"
      },
      "outputs": [],
      "source": [
        "t = 12345, 54321, 'hello!'\n",
        "t"
      ]
    },
    {
      "cell_type": "code",
      "execution_count": null,
      "metadata": {
        "id": "pLCMyvGMtHSq"
      },
      "outputs": [],
      "source": [
        "x, y, z = t\n",
        "z"
      ]
    },
    {
      "cell_type": "markdown",
      "metadata": {
        "id": "4613_JSOtRqo"
      },
      "source": [
        "Esto se llama, apropiadamente, desempaquetado de secuencias y funciona para cualquier secuencia en el lado derecho. El desempaquetado de secuencias requiere que haya tantas variables en el lado izquierdo del signo igual como elementos hay en la secuencia. Tenga en cuenta que la asignación múltiple es realmente solo una combinación de empaquetado de tuplas y desempaquetado de secuencias"
      ]
    },
    {
      "cell_type": "markdown",
      "metadata": {
        "id": "C4avR7BstbzA"
      },
      "source": [
        "## 6.4. Conjuntos\n",
        "\n",
        "Python también incluye un tipo de datos para conjuntos. Un conjunto es una colección desordenada sin elementos duplicados. Los usos básicos incluyen pruebas de membresía y eliminación de entradas duplicadas. Los objetos establecidos también admiten operaciones matemáticas como unión, intersección, diferencia y diferencia simétrica.\n",
        "\n",
        "Las llaves o la función `set()` se pueden usar para crear conjuntos. Nota: para crear un conjunto vacío, debe usar `set()`, no `{}`; este último crea un diccionario vacío, una estructura de datos que discutiremos en la siguiente sección.\n",
        "\n",
        "Aquí hay una breve demostración:"
      ]
    },
    {
      "cell_type": "code",
      "execution_count": null,
      "metadata": {
        "id": "rPKll_PDtLKh"
      },
      "outputs": [],
      "source": [
        "basket = {'apple', 'orange', 'apple', 'pear', 'orange', 'banana'}\n",
        "print(basket)                      # show that duplicates have been removed"
      ]
    },
    {
      "cell_type": "code",
      "execution_count": null,
      "metadata": {
        "id": "oR99OTa7tweW"
      },
      "outputs": [],
      "source": [
        "'orange' in basket                 # fast membership testing"
      ]
    },
    {
      "cell_type": "code",
      "execution_count": null,
      "metadata": {
        "id": "9ZdBqVsFt4a4"
      },
      "outputs": [],
      "source": [
        "'crabgrass' in basket"
      ]
    },
    {
      "cell_type": "code",
      "execution_count": null,
      "metadata": {
        "id": "MoK6zqZct6pR"
      },
      "outputs": [],
      "source": [
        "a = set('abracadabra')\n",
        "b = set('alacazam')"
      ]
    },
    {
      "cell_type": "code",
      "execution_count": null,
      "metadata": {
        "id": "iBw1cZucuAX9"
      },
      "outputs": [],
      "source": [
        "a                                  # unique letters in a"
      ]
    },
    {
      "cell_type": "code",
      "execution_count": null,
      "metadata": {
        "id": "1zzUYu_vuDbb"
      },
      "outputs": [],
      "source": [
        "a - b                              # letters in a but not in b"
      ]
    },
    {
      "cell_type": "code",
      "execution_count": null,
      "metadata": {
        "id": "SBfSNe4nuGRA"
      },
      "outputs": [],
      "source": [
        "a | b                              # letters in a or b or both"
      ]
    },
    {
      "cell_type": "code",
      "execution_count": null,
      "metadata": {
        "id": "X1g-czRduKJv"
      },
      "outputs": [],
      "source": [
        "a & b                              # letters in both a and b"
      ]
    },
    {
      "cell_type": "code",
      "execution_count": null,
      "metadata": {
        "id": "hghmFZ2euMUF"
      },
      "outputs": [],
      "source": [
        "a ^ b                              # letters in a or b but not both"
      ]
    },
    {
      "cell_type": "markdown",
      "metadata": {
        "id": "HNz6helIuWPr"
      },
      "source": [
        "De manera similar a las comprensiones de listas , también se admiten las comprensiones de conjuntos:"
      ]
    },
    {
      "cell_type": "code",
      "execution_count": null,
      "metadata": {
        "id": "CM3HSfMHuPfp"
      },
      "outputs": [],
      "source": [
        "a = {x for x in 'abracadabra' if x not in 'abc'}\n",
        "a"
      ]
    },
    {
      "cell_type": "markdown",
      "metadata": {
        "id": "-4y1Ax3Fuemg"
      },
      "source": [
        "## 6.5. Diccionarios\n",
        "\n",
        "Otro tipo de datos útil integrado en Python es el diccionario. Los diccionarios a veces se encuentran en otros idiomas como \"memorias asociativas\" o \"matrices asociativas\". A diferencia de las secuencias, que están indexadas por un rango de números, los diccionarios están indexados por claves, que pueden ser de cualquier tipo inmutable; cadenas y números siempre pueden ser claves. Las tuplas se pueden usar como claves si solo contienen cadenas, números o tuplas; si una tupla contiene cualquier objeto mutable, ya sea directa o indirectamente, no se puede usar como clave. No puede usar listas como claves, ya que las listas se pueden modificar en su lugar mediante asignaciones de índice, asignaciones de sectores o métodos como append()y extend().\n",
        "\n",
        "Es mejor pensar en un diccionario como un conjunto de parejas clave:valor, con el requisito de que las claves sean únicas (dentro de un diccionario). Un par de llaves crea un diccionario vacío: `{}`. Colocar una lista separada por comas de pares `clave:valor` entre llaves agrega pares iniciales `clave:valor` al diccionario; esta es también la forma en que se escriben los diccionarios en la salida.\n",
        "\n",
        "Las operaciones principales en un diccionario son almacenar un valor con alguna clave y extraer el valor dada una clave. También es posible eliminar un par `clave:valor` con `del`. Si almacena usando una clave que ya está en uso, el valor anterior asociado con esa clave se olvida. Es un error extraer un valor utilizando una clave inexistente.\n",
        "\n",
        "Realizar `list(d)` en un diccionario devuelve una lista de todas las claves utilizadas en el diccionario, en orden de inserción (si desea ordenarlas, simplemente utilice `sorted(d)` en su lugar). Para verificar si una sola clave está en el diccionario, use la inpalabra clave.\n",
        "\n",
        "Aquí hay un pequeño ejemplo usando un diccionario:"
      ]
    },
    {
      "cell_type": "code",
      "execution_count": null,
      "metadata": {
        "id": "8Un0k2HguZgX"
      },
      "outputs": [],
      "source": [
        "tel = {'jack': 4098, 'sape': 4139}\n",
        "tel['guido'] = 4127\n",
        "tel"
      ]
    },
    {
      "cell_type": "code",
      "execution_count": null,
      "metadata": {
        "id": "PyNbbechvmwm"
      },
      "outputs": [],
      "source": [
        "tel['jack']"
      ]
    },
    {
      "cell_type": "code",
      "execution_count": null,
      "metadata": {
        "id": "lVFH1S-vvrMq"
      },
      "outputs": [],
      "source": [
        "del tel['sape']\n",
        "tel['irv'] = 4127\n",
        "tel"
      ]
    },
    {
      "cell_type": "code",
      "execution_count": null,
      "metadata": {
        "id": "JH7tMYDUvtd3"
      },
      "outputs": [],
      "source": [
        "list(tel)"
      ]
    },
    {
      "cell_type": "code",
      "execution_count": null,
      "metadata": {
        "id": "9KK7ighCvwmm"
      },
      "outputs": [],
      "source": [
        "sorted(tel)"
      ]
    },
    {
      "cell_type": "code",
      "execution_count": null,
      "metadata": {
        "id": "48JhOHuavz3o"
      },
      "outputs": [],
      "source": [
        "'guido' in tel"
      ]
    },
    {
      "cell_type": "code",
      "execution_count": null,
      "metadata": {
        "id": "yxGlBJHDv3E8"
      },
      "outputs": [],
      "source": [
        "'jack' not in tel"
      ]
    },
    {
      "cell_type": "markdown",
      "metadata": {
        "id": "rtqq9iNtwAzV"
      },
      "source": [
        "El constructor `dict()` crea diccionarios directamente a partir de secuencias de pares clave-valor:"
      ]
    },
    {
      "cell_type": "code",
      "execution_count": null,
      "metadata": {
        "id": "32k7natav53A"
      },
      "outputs": [],
      "source": [
        "dict([('sape', 4139), ('guido', 4127), ('jack', 4098)])"
      ]
    },
    {
      "cell_type": "markdown",
      "metadata": {
        "id": "elt2-pvAwQmG"
      },
      "source": [
        "Además, las compresiones de dictado se pueden usar para crear diccionarios a partir de expresiones arbitrarias de clave y valor:"
      ]
    },
    {
      "cell_type": "code",
      "execution_count": null,
      "metadata": {
        "id": "FpPDXVfywHN2"
      },
      "outputs": [],
      "source": [
        "{x: x**2 for x in (2, 4, 6)}"
      ]
    },
    {
      "cell_type": "markdown",
      "metadata": {
        "id": "2ova8G4zwdGR"
      },
      "source": [
        "Cuando las claves son cadenas simples, a veces es más fácil especificar pares usando argumentos de palabras clave:"
      ]
    },
    {
      "cell_type": "code",
      "execution_count": null,
      "metadata": {
        "id": "P-SrY3znwVxr"
      },
      "outputs": [],
      "source": [
        "dict(sape=4139, guido=4127, jack=4098)"
      ]
    },
    {
      "cell_type": "markdown",
      "metadata": {
        "id": "kcQ9jZrHwrXC"
      },
      "source": [
        "## 6.6. Técnicas de bucle\n",
        "Al recorrer los diccionarios, la clave y el valor correspondiente se pueden recuperar al mismo tiempo usando el método `items()`."
      ]
    },
    {
      "cell_type": "code",
      "execution_count": null,
      "metadata": {
        "id": "XjmKnNbewgPm"
      },
      "outputs": [],
      "source": [
        "knights = {'gallahad': 'the pure', 'robin': 'the brave'}\n",
        "for k, v in knights.items():\n",
        "    print(k, v)"
      ]
    },
    {
      "cell_type": "markdown",
      "metadata": {
        "id": "P5h2b8EFxDlV"
      },
      "source": [
        "Al recorrer una secuencia, el índice de posición y el valor correspondiente se pueden recuperar al mismo tiempo usando la función `enumerate()`."
      ]
    },
    {
      "cell_type": "code",
      "execution_count": null,
      "metadata": {
        "id": "l5sdHPHBw5rM"
      },
      "outputs": [],
      "source": [
        "for i, v in enumerate(['tic', 'tac', 'toe']):\n",
        "    print(i, v)"
      ]
    },
    {
      "cell_type": "markdown",
      "metadata": {
        "id": "e_8TorxvxRJz"
      },
      "source": [
        "Para recorrer dos o más secuencias al mismo tiempo, las entradas se pueden emparejar con la función `zip()`."
      ]
    },
    {
      "cell_type": "code",
      "execution_count": null,
      "metadata": {
        "id": "h3wzzCRixKe_"
      },
      "outputs": [],
      "source": [
        "questions = ['name', 'quest', 'favorite color']\n",
        "answers = ['lancelot', 'the holy grail', 'blue']\n",
        "for q, a in zip(questions, answers):\n",
        "    print('What is your {0}?  It is {1}.'.format(q, a))"
      ]
    },
    {
      "cell_type": "markdown",
      "metadata": {
        "id": "d0vpTqGMxehd"
      },
      "source": [
        "Para recorrer una secuencia en sentido inverso, primero especifique la secuencia en dirección hacia adelante y luego llame a la función `reversed()`."
      ]
    },
    {
      "cell_type": "code",
      "execution_count": null,
      "metadata": {
        "id": "kDDs1qrFxZhP"
      },
      "outputs": [],
      "source": [
        "for i in reversed(range(1, 10, 2)):\n",
        "    print(i)"
      ]
    },
    {
      "cell_type": "markdown",
      "metadata": {
        "id": "HbrBDFoTxoi6"
      },
      "source": [
        "Para recorrer una secuencia en orden, use la función `sorted()` que devuelve una nueva lista ordenada sin modificar la fuente."
      ]
    },
    {
      "cell_type": "code",
      "execution_count": null,
      "metadata": {
        "id": "j9Xck6FVxi-1"
      },
      "outputs": [],
      "source": [
        "basket = ['apple', 'orange', 'apple', 'pear', 'orange', 'banana']\n",
        "for i in sorted(basket):\n",
        "    print(i)"
      ]
    },
    {
      "cell_type": "markdown",
      "metadata": {
        "id": "2gXx7flyx5uz"
      },
      "source": [
        "Usar `set()` en una secuencia elimina los elementos duplicados. El uso de `sorted()` en combinación con `set()` sobre una secuencia es una forma idiomática de recorrer elementos únicos de la secuencia en orden ordenado."
      ]
    },
    {
      "cell_type": "code",
      "execution_count": null,
      "metadata": {
        "id": "nWZDl8Zyx2o7"
      },
      "outputs": [],
      "source": [
        "basket = ['apple', 'orange', 'apple', 'pear', 'orange', 'banana']\n",
        "for f in sorted(set(basket)):\n",
        "    print(f)"
      ]
    },
    {
      "cell_type": "markdown",
      "metadata": {
        "id": "5kIheKamyZ7K"
      },
      "source": [
        "## 6.7. Más sobre Condiciones\n",
        "\n",
        "Las condiciones utilizadas en las declaraciones `while` e `if` pueden contener cualquier operador, no solo comparaciones.\n",
        "\n",
        "Los operadores de comparación `in` y `not in` son pruebas de membresía que determinan si un valor está (o no) en un contenedor. Los operadores `is` y `is not` comparan si dos objetos son realmente el mismo objeto. Todos los operadores de comparación tienen la misma prioridad, que es inferior a la de todos los operadores numéricos.\n",
        "\n",
        "Las comparaciones se pueden encadenar. Por ejemplo, `a < b == cabbc` prueba si `a` es menor que `b` y además es igual a `c`.\n",
        "\n",
        "Las comparaciones pueden combinarse utilizando los operadores booleanos `and` y `or`, y el resultado de una comparación (o de cualquier otra expresión booleana) puede negarse con `not`. Estos tienen prioridades más bajas que los operadores de comparación; entre ellos, `not` tiene la prioridad más alta y `or` la más baja, por lo que `A and not B or C` es equivalente a `(A and (not B)) or C`. Como siempre, se pueden usar paréntesis para expresar la composición deseada.\n",
        "\n",
        "Los operadores booleanos `and` y `or` son los llamados operadores de corto circuito: sus argumentos se evalúan de izquierda a derecha y la evaluación se detiene tan pronto como se determina el resultado. Por ejemplo, si `A` y `C` es verdadero pero `B` es falso, `A and B and C` no evalúa la expresión `C`. Cuando se usa como valor general y no como booleano, el valor de retorno de un operador de cortocircuito es el último argumento evaluado.\n",
        "\n",
        "Es posible asignar el resultado de una comparación u otra expresión booleana a una variable. Por ejemplo,"
      ]
    },
    {
      "cell_type": "code",
      "execution_count": null,
      "metadata": {
        "id": "vLJPpp07yCOj"
      },
      "outputs": [],
      "source": [
        "string1, string2, string3 = '', 'Trondheim', 'Hammer Dance'\n",
        "non_null = string1 or string2 or string3\n",
        "non_null"
      ]
    },
    {
      "cell_type": "markdown",
      "metadata": {
        "id": "ZSDPLgKd4T90"
      },
      "source": [
        "Tenga en cuenta que en Python, a diferencia de C, la asignación dentro de las expresiones debe hacerse explícitamente con el operador morsa `:=` . Esto evita una clase común de problemas que se encuentran en los programas C: escribir una expresión `=` cuando se pretendía `==`."
      ]
    },
    {
      "cell_type": "markdown",
      "metadata": {
        "id": "fh2uBLGQ4zzx"
      },
      "source": [
        "## 6.8. Comparando Secuencias y Otros Tipos\n",
        "\n",
        "Los objetos de secuencia normalmente se pueden comparar con otros objetos con el mismo tipo de secuencia. La comparación utiliza una ordenación lexicográfica: primero se comparan los dos primeros elementos, y si difieren esto determina el resultado de la comparación; si son iguales, se comparan los dos elementos siguientes, y así sucesivamente, hasta agotar cualquiera de las secuencias. Si dos elementos a comparar son en sí mismos secuencias del mismo tipo, la comparación lexicográfica se realiza recursivamente. Si todos los elementos de dos secuencias son iguales, las secuencias se consideran iguales. Si una secuencia es una subsecuencia inicial de la otra, la secuencia más corta es la más pequeña (menor). La ordenación lexicográfica de cadenas utiliza el número de punto de código Unicode para ordenar caracteres individuales. Algunos ejemplos de comparaciones entre secuencias del mismo tipo:\n",
        "\n",
        "\n",
        "\n",
        "```\n",
        "(1, 2, 3)              < (1, 2, 4)\n",
        "[1, 2, 3]              < [1, 2, 4]\n",
        "'ABC' < 'C' < 'Pascal' < 'Python'\n",
        "(1, 2, 3, 4)           < (1, 2, 4)\n",
        "(1, 2)                 < (1, 2, -1)\n",
        "(1, 2, 3)             == (1.0, 2.0, 3.0)\n",
        "(1, 2, ('aa', 'ab'))   < (1, 2, ('abc', 'a'), 4)\n",
        "```\n",
        "\n",
        "Tenga en cuenta que comparar objetos de diferentes tipos con < o > es legal siempre que los objetos tengan métodos de comparación apropiados. Por ejemplo, los tipos numéricos mixtos se comparan según su valor numérico, por lo que 0 es igual a 0.0, etc. De lo contrario, en lugar de proporcionar un orden arbitrario, el intérprete generará una excepción `TypeError`.\n",
        "\n"
      ]
    }
  ],
  "metadata": {
    "colab": {
      "provenance": []
    },
    "kernelspec": {
      "display_name": "Python 3",
      "name": "python3"
    },
    "language_info": {
      "name": "python"
    }
  },
  "nbformat": 4,
  "nbformat_minor": 0
}